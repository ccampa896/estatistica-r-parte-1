{
  "cells": [
    {
      "cell_type": "markdown",
      "metadata": {
        "id": "WvMflodMjQKe"
      },
      "source": [
        "***\n",
        "# <font color=green size=10>CURSO DE ESTATÍSTICA - PARTE 1</font>\n",
        "***\n",
        "\n",
        "## Trabalho de Análise Descritiva de um Conjunto de Dados\n",
        "\n",
        "Utilizando os conhecimentos adquiridos em nosso treinamento realize uma análise descritiva básica de um conjunto de dados retirados da Pesquisa Nacional por Amostra de Domicílios - 2015 do IBGE.\n",
        "\n",
        "Vamos construir histogramas, calcular e avaliar medidas de tendência central, medidas separatrizes e de dispersão dos dados.\n",
        "\n",
        "Siga o roteiro proposto e vá completando as células vazias. Procure pensar em mais informações interessantes que podem ser exploradas em nosso dataset."
      ]
    },
    {
      "cell_type": "markdown",
      "metadata": {
        "id": "cVgsZ_E3jQKg"
      },
      "source": [
        "# <font color=green>DATASET DO PROJETO</font>\n",
        "***"
      ]
    },
    {
      "cell_type": "markdown",
      "metadata": {
        "id": "iN1gIbaKjQKh"
      },
      "source": [
        "### Pesquisa Nacional por Amostra de Domicílios - 2015\n",
        "\n",
        "A <b>Pesquisa Nacional por Amostra de Domicílios - PNAD</b> investiga anualmente, de forma permanente, características gerais da população, de educação, trabalho, rendimento e habitação e outras, com periodicidade variável, de acordo com as necessidades de informação para o país, como as características sobre migração, fecundidade, nupcialidade, saúde, segurança alimentar, entre outros temas. O levantamento dessas estatísticas constitui, ao longo dos 49 anos de realização da pesquisa, um importante instrumento para formulação, validação e avaliação de políticas orientadas para o desenvolvimento socioeconômico e a melhoria das condições de vida no Brasil."
      ]
    },
    {
      "cell_type": "markdown",
      "metadata": {
        "id": "U6V7br1RjQKi"
      },
      "source": [
        "### Fonte dos Dados\n",
        "\n",
        "https://ww2.ibge.gov.br/home/estatistica/populacao/trabalhoerendimento/pnad2015/microdados.shtm"
      ]
    },
    {
      "cell_type": "markdown",
      "metadata": {
        "id": "r0Fe_qnzjQKj"
      },
      "source": [
        "### Variáveis utilizadas\n",
        "\n",
        "> ### Renda\n",
        "> ***\n",
        "\n",
        "Rendimento mensal do trabalho principal para pessoas de 10 anos ou mais de idade.\n",
        "\n",
        "> ### Idade\n",
        "> ***\n",
        "\n",
        "Idade do morador na data de referência em anos.\n",
        "\n",
        "> ### Altura (elaboração própria)\n",
        "> ***\n",
        "\n",
        "Altura do morador em metros.\n",
        "\n",
        "> ### UF\n",
        "> ***\n",
        "\n",
        "|Código|Descrição|\n",
        "|---|---|\n",
        "|11|Rondônia|\n",
        "|12|Acre|\n",
        "|13|Amazonas|\n",
        "|14|Roraima|\n",
        "|15|Pará|\n",
        "|16|Amapá|\n",
        "|17|Tocantins|\n",
        "|21|Maranhão|\n",
        "|22|Piauí|\n",
        "|23|Ceará|\n",
        "|24|Rio Grande do Norte|\n",
        "|25|Paraíba|\n",
        "|26|Pernambuco|\n",
        "|27|Alagoas|\n",
        "|28|Sergipe|\n",
        "|29|Bahia|\n",
        "|31|Minas Gerais|\n",
        "|32|Espírito Santo|\n",
        "|33|Rio de Janeiro|\n",
        "|35|São Paulo|\n",
        "|41|Paraná|\n",
        "|42|Santa Catarina|\n",
        "|43|Rio Grande do Sul|\n",
        "|50|Mato Grosso do Sul|\n",
        "|51|Mato Grosso|\n",
        "|52|Goiás|\n",
        "|53|Distrito Federal|\n",
        "\n",
        "> ### Sexo\n",
        "> ***\n",
        "\n",
        "|Código|Descrição|\n",
        "|---|---|\n",
        "|0|Masculino|\n",
        "|1|Feminino|\n",
        "\n",
        "> ### Anos de Estudo\n",
        "> ***\n",
        "\n",
        "|Código|Descrição|\n",
        "|---|---|\n",
        "|1|Sem instrução e menos de 1 ano|\n",
        "|2|1 ano|\n",
        "|3|2 anos|\n",
        "|4|3 anos|\n",
        "|5|4 anos|\n",
        "|6|5 anos|\n",
        "|7|6 anos|\n",
        "|8|7 anos|\n",
        "|9|8 anos|\n",
        "|10|9 anos|\n",
        "|11|10 anos|\n",
        "|12|11 anos|\n",
        "|13|12 anos|\n",
        "|14|13 anos|\n",
        "|15|14 anos|\n",
        "|16|15 anos ou mais|\n",
        "|17|Não determinados|\n",
        "||Não aplicável|\n",
        "\n",
        "> ### Cor\n",
        "> ***\n",
        "\n",
        "|Código|Descrição|\n",
        "|---|---|\n",
        "|0|Indígena|\n",
        "|2|Branca|\n",
        "|4|Preta|\n",
        "|6|Amarela|\n",
        "|8|Parda|\n",
        "|9|Sem declaração|"
      ]
    },
    {
      "cell_type": "markdown",
      "metadata": {
        "id": "OK1IQH5cX7Gb"
      },
      "source": [
        "#### <font color='red'>Observação</font>\n",
        "***\n",
        "> Os seguintes tratamentos foram realizados nos dados originais:\n",
        "> 1. Foram eliminados os registros onde a <b>Renda</b> era inválida (999 999 999 999);\n",
        "> 2. Foram eliminados os registros onde a <b>Renda</b> era missing;\n",
        "> 3. Foram considerados somente os registros das <b>Pessoas de Referência</b> de cada domicílio (responsável pelo domicílio)."
      ]
    },
    {
      "cell_type": "markdown",
      "metadata": {
        "id": "ZIqLOffNTg1Y"
      },
      "source": [
        "***\n",
        "***"
      ]
    },
    {
      "cell_type": "markdown",
      "metadata": {
        "id": "8Rw70V6ojQKk"
      },
      "source": [
        "### Utilize as células abaixo para importar as bibliotecas que precisar e para configurações gerais\n",
        "#### <font color='red'>Sugestões: dplyr, ggplot2 etc.</font>"
      ]
    },
    {
      "cell_type": "markdown",
      "source": [
        "Carregamento do pacote Tidyverse"
      ],
      "metadata": {
        "id": "CFY9DEwO-dVP"
      }
    },
    {
      "cell_type": "code",
      "execution_count": 1,
      "metadata": {
        "id": "fcTgimHBybMz",
        "colab": {
          "base_uri": "https://localhost:8080/"
        },
        "outputId": "b2572ba4-374d-4d24-e08b-544af234625e"
      },
      "outputs": [
        {
          "output_type": "stream",
          "name": "stderr",
          "text": [
            "── \u001b[1mAttaching packages\u001b[22m ─────────────────────────────────────── tidyverse 1.3.1 ──\n",
            "\n",
            "\u001b[32m✔\u001b[39m \u001b[34mggplot2\u001b[39m 3.4.2     \u001b[32m✔\u001b[39m \u001b[34mpurrr  \u001b[39m 1.0.1\n",
            "\u001b[32m✔\u001b[39m \u001b[34mtibble \u001b[39m 3.2.1     \u001b[32m✔\u001b[39m \u001b[34mdplyr  \u001b[39m 1.1.2\n",
            "\u001b[32m✔\u001b[39m \u001b[34mtidyr  \u001b[39m 1.3.0     \u001b[32m✔\u001b[39m \u001b[34mstringr\u001b[39m 1.5.0\n",
            "\u001b[32m✔\u001b[39m \u001b[34mreadr  \u001b[39m 2.1.4     \u001b[32m✔\u001b[39m \u001b[34mforcats\u001b[39m 1.0.0\n",
            "\n",
            "── \u001b[1mConflicts\u001b[22m ────────────────────────────────────────── tidyverse_conflicts() ──\n",
            "\u001b[31m✖\u001b[39m \u001b[34mdplyr\u001b[39m::\u001b[32mfilter()\u001b[39m masks \u001b[34mstats\u001b[39m::filter()\n",
            "\u001b[31m✖\u001b[39m \u001b[34mdplyr\u001b[39m::\u001b[32mlag()\u001b[39m    masks \u001b[34mstats\u001b[39m::lag()\n",
            "\n"
          ]
        }
      ],
      "source": [
        "library(tidyverse)"
      ]
    },
    {
      "cell_type": "markdown",
      "metadata": {
        "id": "2a-gvBvCULwt"
      },
      "source": [
        "### Importe o dataset e armazene o conteúdo em uma DataFrame"
      ]
    },
    {
      "cell_type": "code",
      "execution_count": 2,
      "metadata": {
        "colab": {
          "base_uri": "https://localhost:8080/"
        },
        "id": "ufRZ7TLwjQKo",
        "outputId": "985153a0-8c0f-47ab-b538-a548be6c4b0e"
      },
      "outputs": [
        {
          "output_type": "stream",
          "name": "stderr",
          "text": [
            "\u001b[1mRows: \u001b[22m\u001b[34m76840\u001b[39m \u001b[1mColumns: \u001b[22m\u001b[34m7\u001b[39m\n",
            "\u001b[36m──\u001b[39m \u001b[1mColumn specification\u001b[22m \u001b[36m────────────────────────────────────────────────────────\u001b[39m\n",
            "\u001b[1mDelimiter:\u001b[22m \",\"\n",
            "\u001b[32mdbl\u001b[39m (7): UF, Sexo, Idade, Cor, Anos de Estudo, Renda, Altura\n",
            "\n",
            "\u001b[36mℹ\u001b[39m Use `spec()` to retrieve the full column specification for this data.\n",
            "\u001b[36mℹ\u001b[39m Specify the column types or set `show_col_types = FALSE` to quiet this message.\n"
          ]
        }
      ],
      "source": [
        "dados <- read_csv('dados.csv')"
      ]
    },
    {
      "cell_type": "markdown",
      "metadata": {
        "id": "Oq3CKHCmTg1j"
      },
      "source": [
        "### Visualize o conteúdo do DataFrame"
      ]
    },
    {
      "cell_type": "code",
      "execution_count": 3,
      "metadata": {
        "colab": {
          "base_uri": "https://localhost:8080/",
          "height": 1000
        },
        "id": "GsC_WhLFjQKq",
        "outputId": "e73b7bd8-a702-42f4-bc9d-2ba06ee1d11b",
        "scrolled": true
      },
      "outputs": [
        {
          "output_type": "display_data",
          "data": {
            "text/html": [
              "<table class=\"dataframe\">\n",
              "<caption>A spec_tbl_df: 76840 × 7</caption>\n",
              "<thead>\n",
              "\t<tr><th scope=col>UF</th><th scope=col>Sexo</th><th scope=col>Idade</th><th scope=col>Cor</th><th scope=col>Anos de Estudo</th><th scope=col>Renda</th><th scope=col>Altura</th></tr>\n",
              "\t<tr><th scope=col>&lt;dbl&gt;</th><th scope=col>&lt;dbl&gt;</th><th scope=col>&lt;dbl&gt;</th><th scope=col>&lt;dbl&gt;</th><th scope=col>&lt;dbl&gt;</th><th scope=col>&lt;dbl&gt;</th><th scope=col>&lt;dbl&gt;</th></tr>\n",
              "</thead>\n",
              "<tbody>\n",
              "\t<tr><td>11</td><td>0</td><td>23</td><td>8</td><td>12</td><td> 800</td><td>1.603808</td></tr>\n",
              "\t<tr><td>11</td><td>1</td><td>23</td><td>2</td><td>12</td><td>1150</td><td>1.739790</td></tr>\n",
              "\t<tr><td>11</td><td>1</td><td>35</td><td>8</td><td>15</td><td> 880</td><td>1.760444</td></tr>\n",
              "\t<tr><td>11</td><td>0</td><td>46</td><td>2</td><td> 6</td><td>3500</td><td>1.783158</td></tr>\n",
              "\t<tr><td>11</td><td>1</td><td>47</td><td>8</td><td> 9</td><td> 150</td><td>1.690631</td></tr>\n",
              "\t<tr><td>11</td><td>1</td><td>34</td><td>8</td><td>12</td><td> 790</td><td>1.637906</td></tr>\n",
              "\t<tr><td>11</td><td>0</td><td>57</td><td>8</td><td>12</td><td>3150</td><td>1.570078</td></tr>\n",
              "\t<tr><td>11</td><td>1</td><td>60</td><td>8</td><td>12</td><td>1700</td><td>1.608495</td></tr>\n",
              "\t<tr><td>11</td><td>1</td><td>50</td><td>4</td><td>14</td><td>1800</td><td>1.780329</td></tr>\n",
              "\t<tr><td>11</td><td>0</td><td>26</td><td>8</td><td>12</td><td>1150</td><td>1.793203</td></tr>\n",
              "\t<tr><td>11</td><td>1</td><td>46</td><td>8</td><td>12</td><td>3000</td><td>1.787003</td></tr>\n",
              "\t<tr><td>11</td><td>1</td><td>49</td><td>8</td><td> 6</td><td>2500</td><td>1.712912</td></tr>\n",
              "\t<tr><td>11</td><td>1</td><td>52</td><td>2</td><td> 6</td><td>1200</td><td>1.736442</td></tr>\n",
              "\t<tr><td>11</td><td>0</td><td>38</td><td>8</td><td>12</td><td>2000</td><td>1.750827</td></tr>\n",
              "\t<tr><td>11</td><td>0</td><td>45</td><td>2</td><td>12</td><td>2000</td><td>1.780450</td></tr>\n",
              "\t<tr><td>11</td><td>0</td><td>34</td><td>2</td><td>16</td><td>6000</td><td>1.711825</td></tr>\n",
              "\t<tr><td>11</td><td>1</td><td>43</td><td>8</td><td>10</td><td>1050</td><td>1.789012</td></tr>\n",
              "\t<tr><td>11</td><td>0</td><td>53</td><td>8</td><td>16</td><td>7000</td><td>1.673665</td></tr>\n",
              "\t<tr><td>11</td><td>0</td><td>57</td><td>2</td><td>12</td><td>2000</td><td>1.715138</td></tr>\n",
              "\t<tr><td>11</td><td>1</td><td>62</td><td>8</td><td>12</td><td>1150</td><td>1.765973</td></tr>\n",
              "\t<tr><td>11</td><td>0</td><td>69</td><td>8</td><td> 1</td><td>3030</td><td>1.746351</td></tr>\n",
              "\t<tr><td>11</td><td>1</td><td>41</td><td>8</td><td>16</td><td>4000</td><td>1.660873</td></tr>\n",
              "\t<tr><td>11</td><td>0</td><td>34</td><td>8</td><td> 5</td><td> 788</td><td>1.746048</td></tr>\n",
              "\t<tr><td>11</td><td>0</td><td>25</td><td>8</td><td>12</td><td>1000</td><td>1.726496</td></tr>\n",
              "\t<tr><td>11</td><td>0</td><td>33</td><td>8</td><td> 9</td><td> 800</td><td>1.778914</td></tr>\n",
              "\t<tr><td>11</td><td>1</td><td>44</td><td>8</td><td> 5</td><td> 788</td><td>1.668638</td></tr>\n",
              "\t<tr><td>11</td><td>0</td><td>33</td><td>2</td><td>16</td><td>1600</td><td>1.783771</td></tr>\n",
              "\t<tr><td>11</td><td>0</td><td>65</td><td>2</td><td>12</td><td>1700</td><td>1.873445</td></tr>\n",
              "\t<tr><td>11</td><td>0</td><td>33</td><td>8</td><td>14</td><td>2000</td><td>1.890250</td></tr>\n",
              "\t<tr><td>11</td><td>0</td><td>32</td><td>8</td><td>12</td><td>2400</td><td>1.660204</td></tr>\n",
              "\t<tr><td>⋮</td><td>⋮</td><td>⋮</td><td>⋮</td><td>⋮</td><td>⋮</td><td>⋮</td></tr>\n",
              "\t<tr><td>53</td><td>0</td><td>34</td><td>4</td><td>12</td><td> 2500</td><td>1.802241</td></tr>\n",
              "\t<tr><td>53</td><td>1</td><td>57</td><td>2</td><td>11</td><td> 1000</td><td>1.823047</td></tr>\n",
              "\t<tr><td>53</td><td>1</td><td>32</td><td>4</td><td>12</td><td>  788</td><td>1.681405</td></tr>\n",
              "\t<tr><td>53</td><td>0</td><td>35</td><td>4</td><td> 9</td><td> 2100</td><td>1.671112</td></tr>\n",
              "\t<tr><td>53</td><td>1</td><td>49</td><td>8</td><td>12</td><td> 5260</td><td>1.799319</td></tr>\n",
              "\t<tr><td>53</td><td>0</td><td>51</td><td>8</td><td> 1</td><td> 5000</td><td>1.599400</td></tr>\n",
              "\t<tr><td>53</td><td>0</td><td>37</td><td>8</td><td>12</td><td>  950</td><td>1.620497</td></tr>\n",
              "\t<tr><td>53</td><td>0</td><td>47</td><td>8</td><td>12</td><td> 1109</td><td>1.920274</td></tr>\n",
              "\t<tr><td>53</td><td>0</td><td>27</td><td>8</td><td>10</td><td>  850</td><td>1.793074</td></tr>\n",
              "\t<tr><td>53</td><td>1</td><td>49</td><td>8</td><td> 9</td><td>  788</td><td>1.695710</td></tr>\n",
              "\t<tr><td>53</td><td>1</td><td>27</td><td>8</td><td>12</td><td>  866</td><td>1.729035</td></tr>\n",
              "\t<tr><td>53</td><td>0</td><td>20</td><td>2</td><td> 8</td><td> 1300</td><td>1.660409</td></tr>\n",
              "\t<tr><td>53</td><td>0</td><td>49</td><td>8</td><td>12</td><td> 8700</td><td>1.775182</td></tr>\n",
              "\t<tr><td>53</td><td>0</td><td>43</td><td>8</td><td>10</td><td> 5000</td><td>1.584493</td></tr>\n",
              "\t<tr><td>53</td><td>0</td><td>64</td><td>2</td><td>12</td><td> 5000</td><td>1.717452</td></tr>\n",
              "\t<tr><td>53</td><td>0</td><td>55</td><td>2</td><td>16</td><td>13000</td><td>1.729995</td></tr>\n",
              "\t<tr><td>53</td><td>0</td><td>39</td><td>2</td><td>12</td><td> 6000</td><td>1.739046</td></tr>\n",
              "\t<tr><td>53</td><td>1</td><td>41</td><td>2</td><td>16</td><td>10000</td><td>1.696208</td></tr>\n",
              "\t<tr><td>53</td><td>0</td><td>62</td><td>2</td><td>16</td><td>10000</td><td>1.817097</td></tr>\n",
              "\t<tr><td>53</td><td>0</td><td>42</td><td>8</td><td>12</td><td>32000</td><td>1.788923</td></tr>\n",
              "\t<tr><td>53</td><td>0</td><td>62</td><td>2</td><td>16</td><td> 3500</td><td>1.725379</td></tr>\n",
              "\t<tr><td>53</td><td>1</td><td>44</td><td>2</td><td>16</td><td>30000</td><td>1.783962</td></tr>\n",
              "\t<tr><td>53</td><td>1</td><td>49</td><td>2</td><td>12</td><td> 5000</td><td>1.757146</td></tr>\n",
              "\t<tr><td>53</td><td>0</td><td>30</td><td>4</td><td> 6</td><td> 1900</td><td>1.662560</td></tr>\n",
              "\t<tr><td>53</td><td>1</td><td>35</td><td>4</td><td> 1</td><td> 1100</td><td>1.741089</td></tr>\n",
              "\t<tr><td>53</td><td>1</td><td>46</td><td>2</td><td>11</td><td>  812</td><td>1.687030</td></tr>\n",
              "\t<tr><td>53</td><td>0</td><td>30</td><td>4</td><td> 7</td><td> 1500</td><td>1.792934</td></tr>\n",
              "\t<tr><td>53</td><td>0</td><td>32</td><td>8</td><td>12</td><td> 1300</td><td>1.830587</td></tr>\n",
              "\t<tr><td>53</td><td>0</td><td>57</td><td>8</td><td> 4</td><td> 1500</td><td>1.726344</td></tr>\n",
              "\t<tr><td>53</td><td>0</td><td>38</td><td>8</td><td> 4</td><td>  900</td><td>1.658305</td></tr>\n",
              "</tbody>\n",
              "</table>\n"
            ],
            "text/markdown": "\nA spec_tbl_df: 76840 × 7\n\n| UF &lt;dbl&gt; | Sexo &lt;dbl&gt; | Idade &lt;dbl&gt; | Cor &lt;dbl&gt; | Anos de Estudo &lt;dbl&gt; | Renda &lt;dbl&gt; | Altura &lt;dbl&gt; |\n|---|---|---|---|---|---|---|\n| 11 | 0 | 23 | 8 | 12 |  800 | 1.603808 |\n| 11 | 1 | 23 | 2 | 12 | 1150 | 1.739790 |\n| 11 | 1 | 35 | 8 | 15 |  880 | 1.760444 |\n| 11 | 0 | 46 | 2 |  6 | 3500 | 1.783158 |\n| 11 | 1 | 47 | 8 |  9 |  150 | 1.690631 |\n| 11 | 1 | 34 | 8 | 12 |  790 | 1.637906 |\n| 11 | 0 | 57 | 8 | 12 | 3150 | 1.570078 |\n| 11 | 1 | 60 | 8 | 12 | 1700 | 1.608495 |\n| 11 | 1 | 50 | 4 | 14 | 1800 | 1.780329 |\n| 11 | 0 | 26 | 8 | 12 | 1150 | 1.793203 |\n| 11 | 1 | 46 | 8 | 12 | 3000 | 1.787003 |\n| 11 | 1 | 49 | 8 |  6 | 2500 | 1.712912 |\n| 11 | 1 | 52 | 2 |  6 | 1200 | 1.736442 |\n| 11 | 0 | 38 | 8 | 12 | 2000 | 1.750827 |\n| 11 | 0 | 45 | 2 | 12 | 2000 | 1.780450 |\n| 11 | 0 | 34 | 2 | 16 | 6000 | 1.711825 |\n| 11 | 1 | 43 | 8 | 10 | 1050 | 1.789012 |\n| 11 | 0 | 53 | 8 | 16 | 7000 | 1.673665 |\n| 11 | 0 | 57 | 2 | 12 | 2000 | 1.715138 |\n| 11 | 1 | 62 | 8 | 12 | 1150 | 1.765973 |\n| 11 | 0 | 69 | 8 |  1 | 3030 | 1.746351 |\n| 11 | 1 | 41 | 8 | 16 | 4000 | 1.660873 |\n| 11 | 0 | 34 | 8 |  5 |  788 | 1.746048 |\n| 11 | 0 | 25 | 8 | 12 | 1000 | 1.726496 |\n| 11 | 0 | 33 | 8 |  9 |  800 | 1.778914 |\n| 11 | 1 | 44 | 8 |  5 |  788 | 1.668638 |\n| 11 | 0 | 33 | 2 | 16 | 1600 | 1.783771 |\n| 11 | 0 | 65 | 2 | 12 | 1700 | 1.873445 |\n| 11 | 0 | 33 | 8 | 14 | 2000 | 1.890250 |\n| 11 | 0 | 32 | 8 | 12 | 2400 | 1.660204 |\n| ⋮ | ⋮ | ⋮ | ⋮ | ⋮ | ⋮ | ⋮ |\n| 53 | 0 | 34 | 4 | 12 |  2500 | 1.802241 |\n| 53 | 1 | 57 | 2 | 11 |  1000 | 1.823047 |\n| 53 | 1 | 32 | 4 | 12 |   788 | 1.681405 |\n| 53 | 0 | 35 | 4 |  9 |  2100 | 1.671112 |\n| 53 | 1 | 49 | 8 | 12 |  5260 | 1.799319 |\n| 53 | 0 | 51 | 8 |  1 |  5000 | 1.599400 |\n| 53 | 0 | 37 | 8 | 12 |   950 | 1.620497 |\n| 53 | 0 | 47 | 8 | 12 |  1109 | 1.920274 |\n| 53 | 0 | 27 | 8 | 10 |   850 | 1.793074 |\n| 53 | 1 | 49 | 8 |  9 |   788 | 1.695710 |\n| 53 | 1 | 27 | 8 | 12 |   866 | 1.729035 |\n| 53 | 0 | 20 | 2 |  8 |  1300 | 1.660409 |\n| 53 | 0 | 49 | 8 | 12 |  8700 | 1.775182 |\n| 53 | 0 | 43 | 8 | 10 |  5000 | 1.584493 |\n| 53 | 0 | 64 | 2 | 12 |  5000 | 1.717452 |\n| 53 | 0 | 55 | 2 | 16 | 13000 | 1.729995 |\n| 53 | 0 | 39 | 2 | 12 |  6000 | 1.739046 |\n| 53 | 1 | 41 | 2 | 16 | 10000 | 1.696208 |\n| 53 | 0 | 62 | 2 | 16 | 10000 | 1.817097 |\n| 53 | 0 | 42 | 8 | 12 | 32000 | 1.788923 |\n| 53 | 0 | 62 | 2 | 16 |  3500 | 1.725379 |\n| 53 | 1 | 44 | 2 | 16 | 30000 | 1.783962 |\n| 53 | 1 | 49 | 2 | 12 |  5000 | 1.757146 |\n| 53 | 0 | 30 | 4 |  6 |  1900 | 1.662560 |\n| 53 | 1 | 35 | 4 |  1 |  1100 | 1.741089 |\n| 53 | 1 | 46 | 2 | 11 |   812 | 1.687030 |\n| 53 | 0 | 30 | 4 |  7 |  1500 | 1.792934 |\n| 53 | 0 | 32 | 8 | 12 |  1300 | 1.830587 |\n| 53 | 0 | 57 | 8 |  4 |  1500 | 1.726344 |\n| 53 | 0 | 38 | 8 |  4 |   900 | 1.658305 |\n\n",
            "text/latex": "A spec\\_tbl\\_df: 76840 × 7\n\\begin{tabular}{lllllll}\n UF & Sexo & Idade & Cor & Anos de Estudo & Renda & Altura\\\\\n <dbl> & <dbl> & <dbl> & <dbl> & <dbl> & <dbl> & <dbl>\\\\\n\\hline\n\t 11 & 0 & 23 & 8 & 12 &  800 & 1.603808\\\\\n\t 11 & 1 & 23 & 2 & 12 & 1150 & 1.739790\\\\\n\t 11 & 1 & 35 & 8 & 15 &  880 & 1.760444\\\\\n\t 11 & 0 & 46 & 2 &  6 & 3500 & 1.783158\\\\\n\t 11 & 1 & 47 & 8 &  9 &  150 & 1.690631\\\\\n\t 11 & 1 & 34 & 8 & 12 &  790 & 1.637906\\\\\n\t 11 & 0 & 57 & 8 & 12 & 3150 & 1.570078\\\\\n\t 11 & 1 & 60 & 8 & 12 & 1700 & 1.608495\\\\\n\t 11 & 1 & 50 & 4 & 14 & 1800 & 1.780329\\\\\n\t 11 & 0 & 26 & 8 & 12 & 1150 & 1.793203\\\\\n\t 11 & 1 & 46 & 8 & 12 & 3000 & 1.787003\\\\\n\t 11 & 1 & 49 & 8 &  6 & 2500 & 1.712912\\\\\n\t 11 & 1 & 52 & 2 &  6 & 1200 & 1.736442\\\\\n\t 11 & 0 & 38 & 8 & 12 & 2000 & 1.750827\\\\\n\t 11 & 0 & 45 & 2 & 12 & 2000 & 1.780450\\\\\n\t 11 & 0 & 34 & 2 & 16 & 6000 & 1.711825\\\\\n\t 11 & 1 & 43 & 8 & 10 & 1050 & 1.789012\\\\\n\t 11 & 0 & 53 & 8 & 16 & 7000 & 1.673665\\\\\n\t 11 & 0 & 57 & 2 & 12 & 2000 & 1.715138\\\\\n\t 11 & 1 & 62 & 8 & 12 & 1150 & 1.765973\\\\\n\t 11 & 0 & 69 & 8 &  1 & 3030 & 1.746351\\\\\n\t 11 & 1 & 41 & 8 & 16 & 4000 & 1.660873\\\\\n\t 11 & 0 & 34 & 8 &  5 &  788 & 1.746048\\\\\n\t 11 & 0 & 25 & 8 & 12 & 1000 & 1.726496\\\\\n\t 11 & 0 & 33 & 8 &  9 &  800 & 1.778914\\\\\n\t 11 & 1 & 44 & 8 &  5 &  788 & 1.668638\\\\\n\t 11 & 0 & 33 & 2 & 16 & 1600 & 1.783771\\\\\n\t 11 & 0 & 65 & 2 & 12 & 1700 & 1.873445\\\\\n\t 11 & 0 & 33 & 8 & 14 & 2000 & 1.890250\\\\\n\t 11 & 0 & 32 & 8 & 12 & 2400 & 1.660204\\\\\n\t ⋮ & ⋮ & ⋮ & ⋮ & ⋮ & ⋮ & ⋮\\\\\n\t 53 & 0 & 34 & 4 & 12 &  2500 & 1.802241\\\\\n\t 53 & 1 & 57 & 2 & 11 &  1000 & 1.823047\\\\\n\t 53 & 1 & 32 & 4 & 12 &   788 & 1.681405\\\\\n\t 53 & 0 & 35 & 4 &  9 &  2100 & 1.671112\\\\\n\t 53 & 1 & 49 & 8 & 12 &  5260 & 1.799319\\\\\n\t 53 & 0 & 51 & 8 &  1 &  5000 & 1.599400\\\\\n\t 53 & 0 & 37 & 8 & 12 &   950 & 1.620497\\\\\n\t 53 & 0 & 47 & 8 & 12 &  1109 & 1.920274\\\\\n\t 53 & 0 & 27 & 8 & 10 &   850 & 1.793074\\\\\n\t 53 & 1 & 49 & 8 &  9 &   788 & 1.695710\\\\\n\t 53 & 1 & 27 & 8 & 12 &   866 & 1.729035\\\\\n\t 53 & 0 & 20 & 2 &  8 &  1300 & 1.660409\\\\\n\t 53 & 0 & 49 & 8 & 12 &  8700 & 1.775182\\\\\n\t 53 & 0 & 43 & 8 & 10 &  5000 & 1.584493\\\\\n\t 53 & 0 & 64 & 2 & 12 &  5000 & 1.717452\\\\\n\t 53 & 0 & 55 & 2 & 16 & 13000 & 1.729995\\\\\n\t 53 & 0 & 39 & 2 & 12 &  6000 & 1.739046\\\\\n\t 53 & 1 & 41 & 2 & 16 & 10000 & 1.696208\\\\\n\t 53 & 0 & 62 & 2 & 16 & 10000 & 1.817097\\\\\n\t 53 & 0 & 42 & 8 & 12 & 32000 & 1.788923\\\\\n\t 53 & 0 & 62 & 2 & 16 &  3500 & 1.725379\\\\\n\t 53 & 1 & 44 & 2 & 16 & 30000 & 1.783962\\\\\n\t 53 & 1 & 49 & 2 & 12 &  5000 & 1.757146\\\\\n\t 53 & 0 & 30 & 4 &  6 &  1900 & 1.662560\\\\\n\t 53 & 1 & 35 & 4 &  1 &  1100 & 1.741089\\\\\n\t 53 & 1 & 46 & 2 & 11 &   812 & 1.687030\\\\\n\t 53 & 0 & 30 & 4 &  7 &  1500 & 1.792934\\\\\n\t 53 & 0 & 32 & 8 & 12 &  1300 & 1.830587\\\\\n\t 53 & 0 & 57 & 8 &  4 &  1500 & 1.726344\\\\\n\t 53 & 0 & 38 & 8 &  4 &   900 & 1.658305\\\\\n\\end{tabular}\n",
            "text/plain": [
              "      UF Sexo Idade Cor Anos de Estudo Renda Altura  \n",
              "1     11 0    23    8   12              800  1.603808\n",
              "2     11 1    23    2   12             1150  1.739790\n",
              "3     11 1    35    8   15              880  1.760444\n",
              "4     11 0    46    2    6             3500  1.783158\n",
              "5     11 1    47    8    9              150  1.690631\n",
              "6     11 1    34    8   12              790  1.637906\n",
              "7     11 0    57    8   12             3150  1.570078\n",
              "8     11 1    60    8   12             1700  1.608495\n",
              "9     11 1    50    4   14             1800  1.780329\n",
              "10    11 0    26    8   12             1150  1.793203\n",
              "11    11 1    46    8   12             3000  1.787003\n",
              "12    11 1    49    8    6             2500  1.712912\n",
              "13    11 1    52    2    6             1200  1.736442\n",
              "14    11 0    38    8   12             2000  1.750827\n",
              "15    11 0    45    2   12             2000  1.780450\n",
              "16    11 0    34    2   16             6000  1.711825\n",
              "17    11 1    43    8   10             1050  1.789012\n",
              "18    11 0    53    8   16             7000  1.673665\n",
              "19    11 0    57    2   12             2000  1.715138\n",
              "20    11 1    62    8   12             1150  1.765973\n",
              "21    11 0    69    8    1             3030  1.746351\n",
              "22    11 1    41    8   16             4000  1.660873\n",
              "23    11 0    34    8    5              788  1.746048\n",
              "24    11 0    25    8   12             1000  1.726496\n",
              "25    11 0    33    8    9              800  1.778914\n",
              "26    11 1    44    8    5              788  1.668638\n",
              "27    11 0    33    2   16             1600  1.783771\n",
              "28    11 0    65    2   12             1700  1.873445\n",
              "29    11 0    33    8   14             2000  1.890250\n",
              "30    11 0    32    8   12             2400  1.660204\n",
              "⋮     ⋮  ⋮    ⋮     ⋮   ⋮              ⋮     ⋮       \n",
              "76811 53 0    34    4   12              2500 1.802241\n",
              "76812 53 1    57    2   11              1000 1.823047\n",
              "76813 53 1    32    4   12               788 1.681405\n",
              "76814 53 0    35    4    9              2100 1.671112\n",
              "76815 53 1    49    8   12              5260 1.799319\n",
              "76816 53 0    51    8    1              5000 1.599400\n",
              "76817 53 0    37    8   12               950 1.620497\n",
              "76818 53 0    47    8   12              1109 1.920274\n",
              "76819 53 0    27    8   10               850 1.793074\n",
              "76820 53 1    49    8    9               788 1.695710\n",
              "76821 53 1    27    8   12               866 1.729035\n",
              "76822 53 0    20    2    8              1300 1.660409\n",
              "76823 53 0    49    8   12              8700 1.775182\n",
              "76824 53 0    43    8   10              5000 1.584493\n",
              "76825 53 0    64    2   12              5000 1.717452\n",
              "76826 53 0    55    2   16             13000 1.729995\n",
              "76827 53 0    39    2   12              6000 1.739046\n",
              "76828 53 1    41    2   16             10000 1.696208\n",
              "76829 53 0    62    2   16             10000 1.817097\n",
              "76830 53 0    42    8   12             32000 1.788923\n",
              "76831 53 0    62    2   16              3500 1.725379\n",
              "76832 53 1    44    2   16             30000 1.783962\n",
              "76833 53 1    49    2   12              5000 1.757146\n",
              "76834 53 0    30    4    6              1900 1.662560\n",
              "76835 53 1    35    4    1              1100 1.741089\n",
              "76836 53 1    46    2   11               812 1.687030\n",
              "76837 53 0    30    4    7              1500 1.792934\n",
              "76838 53 0    32    8   12              1300 1.830587\n",
              "76839 53 0    57    8    4              1500 1.726344\n",
              "76840 53 0    38    8    4               900 1.658305"
            ]
          },
          "metadata": {}
        }
      ],
      "source": [
        "dados"
      ]
    },
    {
      "cell_type": "markdown",
      "metadata": {
        "id": "HDrFJQitTg1n"
      },
      "source": [
        "### Para avaliar o comportamento da variável RENDA vamos construir uma tabela de frequências considerando as seguintes classes em salários mínimos (SM)\n",
        "#### <font color='blue'>Descreva os pontos mais relevantes que você observa na tabela e no gráfico.</font>\n",
        "\n",
        "Classes de renda:\n",
        "\n",
        "<b>A</b> ► Acima de 25 SM\n",
        "\n",
        "<b>B</b> ► De 15 a 25 SM\n",
        "\n",
        "<b>C</b> ► De 5 a 15 SM\n",
        "\n",
        "<b>D</b> ► De 2 a 5 SM\n",
        "\n",
        "<b>E</b> ► Até 2 SM\n",
        "\n",
        "Para construir as classes de renda considere que o salário mínimo na época da pesquisa era de <b>R$ 788,00</b>.\n",
        "\n",
        "#### Siga os passos abaixo:"
      ]
    },
    {
      "cell_type": "markdown",
      "metadata": {
        "id": "zJBkeGxiTg1o"
      },
      "source": [
        "### 1º Definir os intervalos das classes em reais (R$)"
      ]
    },
    {
      "cell_type": "code",
      "source": [
        "# valor mínimo de salário\n",
        "min(dados$Renda)"
      ],
      "metadata": {
        "colab": {
          "base_uri": "https://localhost:8080/",
          "height": 34
        },
        "id": "rP7arcaUBUfj",
        "outputId": "b1d63817-5ea5-4bff-f0c3-ec3cc34db22b"
      },
      "execution_count": 4,
      "outputs": [
        {
          "output_type": "display_data",
          "data": {
            "text/html": [
              "0"
            ],
            "text/markdown": "0",
            "text/latex": "0",
            "text/plain": [
              "[1] 0"
            ]
          },
          "metadata": {}
        }
      ]
    },
    {
      "cell_type": "code",
      "source": [
        "# valor máximo de salário\n",
        "max(dados$Renda)"
      ],
      "metadata": {
        "colab": {
          "base_uri": "https://localhost:8080/",
          "height": 34
        },
        "id": "dYWlWe96BdDN",
        "outputId": "23e5e60d-b685-4763-b769-b31ce8530093"
      },
      "execution_count": 5,
      "outputs": [
        {
          "output_type": "display_data",
          "data": {
            "text/html": [
              "2e+05"
            ],
            "text/markdown": "2e+05",
            "text/latex": "2e+05",
            "text/plain": [
              "[1] 2e+05"
            ]
          },
          "metadata": {}
        }
      ]
    },
    {
      "cell_type": "code",
      "execution_count": 6,
      "metadata": {
        "colab": {
          "base_uri": "https://localhost:8080/",
          "height": 34
        },
        "id": "-Ct3QUj6Tg1p",
        "outputId": "9ed015b2-8ba9-415f-8f29-eec25be20e93"
      },
      "outputs": [
        {
          "output_type": "display_data",
          "data": {
            "text/html": [
              "<style>\n",
              ".list-inline {list-style: none; margin:0; padding: 0}\n",
              ".list-inline>li {display: inline-block}\n",
              ".list-inline>li:not(:last-child)::after {content: \"\\00b7\"; padding: 0 .5ex}\n",
              "</style>\n",
              "<ol class=list-inline><li>0</li><li>1576</li><li>3940</li><li>11820</li><li>19700</li><li>2e+05</li></ol>\n"
            ],
            "text/markdown": "1. 0\n2. 1576\n3. 3940\n4. 11820\n5. 19700\n6. 2e+05\n\n\n",
            "text/latex": "\\begin{enumerate*}\n\\item 0\n\\item 1576\n\\item 3940\n\\item 11820\n\\item 19700\n\\item 2e+05\n\\end{enumerate*}\n",
            "text/plain": [
              "[1]      0   1576   3940  11820  19700 200000"
            ]
          },
          "metadata": {}
        }
      ],
      "source": [
        "salario <- c(0, 2*788, 5*788, 15*788, 25*788, 200000)\n",
        "salario"
      ]
    },
    {
      "cell_type": "markdown",
      "metadata": {
        "id": "dZ7X37CGTg1t"
      },
      "source": [
        "### 2º Definir os labels das classes"
      ]
    },
    {
      "cell_type": "code",
      "execution_count": 7,
      "metadata": {
        "id": "4UFOzitTTg1u"
      },
      "outputs": [],
      "source": [
        "labels <- c('E', 'D', 'C', 'B', 'A')"
      ]
    },
    {
      "cell_type": "markdown",
      "metadata": {
        "id": "umFq1o-UTg1w"
      },
      "source": [
        "### 3º Construir a coluna de frequências"
      ]
    },
    {
      "cell_type": "code",
      "execution_count": 8,
      "metadata": {
        "colab": {
          "base_uri": "https://localhost:8080/",
          "height": 69
        },
        "id": "uSztBoqOTg1x",
        "outputId": "ddc1531a-a0a1-409e-f8bb-88d2e7854599"
      },
      "outputs": [
        {
          "output_type": "display_data",
          "data": {
            "text/plain": [
              "\n",
              "    E     D     C     B     A \n",
              "49755 18602  7241   822   420 "
            ]
          },
          "metadata": {}
        }
      ],
      "source": [
        "frequencia_salario <- table(\n",
        "  cut(\n",
        "    x = dados$Renda,\n",
        "    breaks = salario,\n",
        "    labels = labels,\n",
        "    include.lowest = TRUE\n",
        "  )\n",
        ")\n",
        "frequencia_salario"
      ]
    },
    {
      "cell_type": "markdown",
      "metadata": {
        "id": "2k6nGUZKTg11"
      },
      "source": [
        "### 4º Construir a coluna de percentuais"
      ]
    },
    {
      "cell_type": "code",
      "execution_count": 9,
      "metadata": {
        "colab": {
          "base_uri": "https://localhost:8080/",
          "height": 69
        },
        "id": "6O-P5vht96u-",
        "outputId": "5bef4647-c6ce-4f2e-87d6-dac2f35681fe"
      },
      "outputs": [
        {
          "output_type": "display_data",
          "data": {
            "text/plain": [
              "\n",
              "         E          D          C          B          A \n",
              "64.7514315 24.2087454  9.4234774  1.0697553  0.5465903 "
            ]
          },
          "metadata": {}
        }
      ],
      "source": [
        "percentual <- prop.table(frequencia_salario) * 100\n",
        "percentual"
      ]
    },
    {
      "cell_type": "markdown",
      "metadata": {
        "id": "9dvk6-9_Tg16"
      },
      "source": [
        "### 5º Juntar as colunas de frequência e percentuais e ordenar as linhas de acordo com os labels das classes"
      ]
    },
    {
      "cell_type": "code",
      "execution_count": 10,
      "metadata": {
        "colab": {
          "base_uri": "https://localhost:8080/",
          "height": 224
        },
        "id": "GunMMuv_96u-",
        "outputId": "b1a27a18-c789-4a4e-a1b1-06f64418fb6c"
      },
      "outputs": [
        {
          "output_type": "display_data",
          "data": {
            "text/html": [
              "<table class=\"dataframe\">\n",
              "<caption>A matrix: 5 × 2 of type dbl</caption>\n",
              "<thead>\n",
              "\t<tr><th></th><th scope=col>Frequência</th><th scope=col>Porcentagem (%)</th></tr>\n",
              "</thead>\n",
              "<tbody>\n",
              "\t<tr><th scope=row>E</th><td>49755</td><td>64.7514315</td></tr>\n",
              "\t<tr><th scope=row>D</th><td>18602</td><td>24.2087454</td></tr>\n",
              "\t<tr><th scope=row>C</th><td> 7241</td><td> 9.4234774</td></tr>\n",
              "\t<tr><th scope=row>B</th><td>  822</td><td> 1.0697553</td></tr>\n",
              "\t<tr><th scope=row>A</th><td>  420</td><td> 0.5465903</td></tr>\n",
              "</tbody>\n",
              "</table>\n"
            ],
            "text/markdown": "\nA matrix: 5 × 2 of type dbl\n\n| <!--/--> | Frequência | Porcentagem (%) |\n|---|---|---|\n| E | 49755 | 64.7514315 |\n| D | 18602 | 24.2087454 |\n| C |  7241 |  9.4234774 |\n| B |   822 |  1.0697553 |\n| A |   420 |  0.5465903 |\n\n",
            "text/latex": "A matrix: 5 × 2 of type dbl\n\\begin{tabular}{r|ll}\n  & Frequência & Porcentagem (\\%)\\\\\n\\hline\n\tE & 49755 & 64.7514315\\\\\n\tD & 18602 & 24.2087454\\\\\n\tC &  7241 &  9.4234774\\\\\n\tB &   822 &  1.0697553\\\\\n\tA &   420 &  0.5465903\\\\\n\\end{tabular}\n",
            "text/plain": [
              "  Frequência Porcentagem (%)\n",
              "E 49755      64.7514315     \n",
              "D 18602      24.2087454     \n",
              "C  7241       9.4234774     \n",
              "B   822       1.0697553     \n",
              "A   420       0.5465903     "
            ]
          },
          "metadata": {}
        }
      ],
      "source": [
        "frequencia_percentual <- cbind('Frequência' = frequencia_salario, 'Porcentagem (%)' = percentual)\n",
        "frequencia_percentual"
      ]
    },
    {
      "cell_type": "code",
      "execution_count": 11,
      "metadata": {
        "colab": {
          "base_uri": "https://localhost:8080/",
          "height": 224
        },
        "id": "_425luSv96u-",
        "outputId": "f442cfaf-5d7d-4046-d5d6-fefd8b6220f9"
      },
      "outputs": [
        {
          "output_type": "display_data",
          "data": {
            "text/html": [
              "<table class=\"dataframe\">\n",
              "<caption>A matrix: 5 × 2 of type dbl</caption>\n",
              "<thead>\n",
              "\t<tr><th></th><th scope=col>Frequência</th><th scope=col>Porcentagem (%)</th></tr>\n",
              "</thead>\n",
              "<tbody>\n",
              "\t<tr><th scope=row>A</th><td>  420</td><td> 0.5465903</td></tr>\n",
              "\t<tr><th scope=row>B</th><td>  822</td><td> 1.0697553</td></tr>\n",
              "\t<tr><th scope=row>C</th><td> 7241</td><td> 9.4234774</td></tr>\n",
              "\t<tr><th scope=row>D</th><td>18602</td><td>24.2087454</td></tr>\n",
              "\t<tr><th scope=row>E</th><td>49755</td><td>64.7514315</td></tr>\n",
              "</tbody>\n",
              "</table>\n"
            ],
            "text/markdown": "\nA matrix: 5 × 2 of type dbl\n\n| <!--/--> | Frequência | Porcentagem (%) |\n|---|---|---|\n| A |   420 |  0.5465903 |\n| B |   822 |  1.0697553 |\n| C |  7241 |  9.4234774 |\n| D | 18602 | 24.2087454 |\n| E | 49755 | 64.7514315 |\n\n",
            "text/latex": "A matrix: 5 × 2 of type dbl\n\\begin{tabular}{r|ll}\n  & Frequência & Porcentagem (\\%)\\\\\n\\hline\n\tA &   420 &  0.5465903\\\\\n\tB &   822 &  1.0697553\\\\\n\tC &  7241 &  9.4234774\\\\\n\tD & 18602 & 24.2087454\\\\\n\tE & 49755 & 64.7514315\\\\\n\\end{tabular}\n",
            "text/plain": [
              "  Frequência Porcentagem (%)\n",
              "A   420       0.5465903     \n",
              "B   822       1.0697553     \n",
              "C  7241       9.4234774     \n",
              "D 18602      24.2087454     \n",
              "E 49755      64.7514315     "
            ]
          },
          "metadata": {}
        }
      ],
      "source": [
        "frequencia_percentual[order(row.names(frequencia_percentual)),]"
      ]
    },
    {
      "cell_type": "markdown",
      "metadata": {
        "id": "DOYtXuSbTg18"
      },
      "source": [
        "### Construa um gráfico de barras para visualizar as informações da tabela de frequências acima\n",
        "\n",
        "#### <font color='red'>Lembre-se de transformar a matriz de resultados em um data frame.</font>"
      ]
    },
    {
      "cell_type": "code",
      "execution_count": 12,
      "metadata": {
        "colab": {
          "base_uri": "https://localhost:8080/",
          "height": 255
        },
        "id": "WErVHiR596u_",
        "outputId": "dd31e461-fbdb-418d-c5e7-1392f7d7fce3"
      },
      "outputs": [
        {
          "output_type": "display_data",
          "data": {
            "text/html": [
              "<table class=\"dataframe\">\n",
              "<caption>A data.frame: 5 × 2</caption>\n",
              "<thead>\n",
              "\t<tr><th></th><th scope=col>Frequência</th><th scope=col>Porcentagem....</th></tr>\n",
              "\t<tr><th></th><th scope=col>&lt;dbl&gt;</th><th scope=col>&lt;dbl&gt;</th></tr>\n",
              "</thead>\n",
              "<tbody>\n",
              "\t<tr><th scope=row>E</th><td>49755</td><td>64.7514315</td></tr>\n",
              "\t<tr><th scope=row>D</th><td>18602</td><td>24.2087454</td></tr>\n",
              "\t<tr><th scope=row>C</th><td> 7241</td><td> 9.4234774</td></tr>\n",
              "\t<tr><th scope=row>B</th><td>  822</td><td> 1.0697553</td></tr>\n",
              "\t<tr><th scope=row>A</th><td>  420</td><td> 0.5465903</td></tr>\n",
              "</tbody>\n",
              "</table>\n"
            ],
            "text/markdown": "\nA data.frame: 5 × 2\n\n| <!--/--> | Frequência &lt;dbl&gt; | Porcentagem.... &lt;dbl&gt; |\n|---|---|---|\n| E | 49755 | 64.7514315 |\n| D | 18602 | 24.2087454 |\n| C |  7241 |  9.4234774 |\n| B |   822 |  1.0697553 |\n| A |   420 |  0.5465903 |\n\n",
            "text/latex": "A data.frame: 5 × 2\n\\begin{tabular}{r|ll}\n  & Frequência & Porcentagem....\\\\\n  & <dbl> & <dbl>\\\\\n\\hline\n\tE & 49755 & 64.7514315\\\\\n\tD & 18602 & 24.2087454\\\\\n\tC &  7241 &  9.4234774\\\\\n\tB &   822 &  1.0697553\\\\\n\tA &   420 &  0.5465903\\\\\n\\end{tabular}\n",
            "text/plain": [
              "  Frequência Porcentagem....\n",
              "E 49755      64.7514315     \n",
              "D 18602      24.2087454     \n",
              "C  7241       9.4234774     \n",
              "B   822       1.0697553     \n",
              "A   420       0.5465903     "
            ]
          },
          "metadata": {}
        }
      ],
      "source": [
        "df_frequencia <- data.frame(frequencia_percentual)\n",
        "df_frequencia"
      ]
    },
    {
      "cell_type": "code",
      "execution_count": 13,
      "metadata": {
        "colab": {
          "base_uri": "https://localhost:8080/",
          "height": 437
        },
        "id": "urEGmyxG96u_",
        "outputId": "f3ccd3b4-0a9e-4dfc-83d5-2a62170c2d69"
      },
      "outputs": [
        {
          "output_type": "display_data",
          "data": {
            "text/plain": [
              "plot without title"
            ],
            "image/png": "[encoded data removed]"
          },
          "metadata": {
            "image/png": {
              "width": 420,
              "height": 420
            }
          }
        }
      ],
      "source": [
        "ggplot(df_frequencia, aes(x = row.names(df_frequencia), y = df_frequencia$`Frequência`)) +\n",
        "    geom_bar(stat = \"identity\") +\n",
        "    ylab(\"Frequência\") +\n",
        "    xlab(\"Classes de Renda\") +\n",
        "    ggtitle('Gráfico Classes de Renda') +\n",
        "    theme(\n",
        "        plot.title = element_text(size = 14, hjust = 0.5),\n",
        "        axis.title.y = element_text(size = 12, vjust = +0.2),\n",
        "        axis.title.x = element_text(size = 12, vjust = -0.2),\n",
        "        axis.text.y = element_text(size = 10),\n",
        "        axis.text.x = element_text(size = 10)\n",
        "    )"
      ]
    },
    {
      "cell_type": "markdown",
      "metadata": {
        "id": "9ppt5JevTg1-"
      },
      "source": [
        "> ### Conclusões\n",
        "\n",
        "A principal informação que podemos tirar destes dados convertidos em gráfico é que a classe E, ou seja, aqueles que recebem até dois salários mínimos (R$1.576,00) são a maioria esmagadora desta amostragem de dados, com quase 50000 de responsável por domicílio recebendo somente este valor de renda.\n"
      ]
    },
    {
      "cell_type": "markdown",
      "metadata": {
        "id": "yt-gFm93Tg1-"
      },
      "source": [
        "### Crie um histograma para as variáveis QUANTITATIVAS de nosso dataset\n",
        "#### <font color='blue'>Descreva os pontos mais relevantes que você observa nos gráficos (assimetrias e seus tipos, possíveis causas para determinados comportamentos etc.)</font>"
      ]
    },
    {
      "cell_type": "code",
      "execution_count": 14,
      "metadata": {
        "colab": {
          "base_uri": "https://localhost:8080/",
          "height": 1000
        },
        "id": "GZDNGluF96u_",
        "outputId": "ec55ce20-6b69-4423-bd26-7bfa335a7227"
      },
      "outputs": [
        {
          "output_type": "display_data",
          "data": {
            "text/html": [
              "<table class=\"dataframe\">\n",
              "<caption>A data.frame: 76840 × 7</caption>\n",
              "<thead>\n",
              "\t<tr><th scope=col>UF</th><th scope=col>Sexo</th><th scope=col>Idade</th><th scope=col>Cor</th><th scope=col>Anos.de.Estudo</th><th scope=col>Renda</th><th scope=col>Altura</th></tr>\n",
              "\t<tr><th scope=col>&lt;dbl&gt;</th><th scope=col>&lt;dbl&gt;</th><th scope=col>&lt;dbl&gt;</th><th scope=col>&lt;dbl&gt;</th><th scope=col>&lt;dbl&gt;</th><th scope=col>&lt;dbl&gt;</th><th scope=col>&lt;dbl&gt;</th></tr>\n",
              "</thead>\n",
              "<tbody>\n",
              "\t<tr><td>11</td><td>0</td><td>23</td><td>8</td><td>12</td><td> 800</td><td>1.603808</td></tr>\n",
              "\t<tr><td>11</td><td>1</td><td>23</td><td>2</td><td>12</td><td>1150</td><td>1.739790</td></tr>\n",
              "\t<tr><td>11</td><td>1</td><td>35</td><td>8</td><td>15</td><td> 880</td><td>1.760444</td></tr>\n",
              "\t<tr><td>11</td><td>0</td><td>46</td><td>2</td><td> 6</td><td>3500</td><td>1.783158</td></tr>\n",
              "\t<tr><td>11</td><td>1</td><td>47</td><td>8</td><td> 9</td><td> 150</td><td>1.690631</td></tr>\n",
              "\t<tr><td>11</td><td>1</td><td>34</td><td>8</td><td>12</td><td> 790</td><td>1.637906</td></tr>\n",
              "\t<tr><td>11</td><td>0</td><td>57</td><td>8</td><td>12</td><td>3150</td><td>1.570078</td></tr>\n",
              "\t<tr><td>11</td><td>1</td><td>60</td><td>8</td><td>12</td><td>1700</td><td>1.608495</td></tr>\n",
              "\t<tr><td>11</td><td>1</td><td>50</td><td>4</td><td>14</td><td>1800</td><td>1.780329</td></tr>\n",
              "\t<tr><td>11</td><td>0</td><td>26</td><td>8</td><td>12</td><td>1150</td><td>1.793203</td></tr>\n",
              "\t<tr><td>11</td><td>1</td><td>46</td><td>8</td><td>12</td><td>3000</td><td>1.787003</td></tr>\n",
              "\t<tr><td>11</td><td>1</td><td>49</td><td>8</td><td> 6</td><td>2500</td><td>1.712912</td></tr>\n",
              "\t<tr><td>11</td><td>1</td><td>52</td><td>2</td><td> 6</td><td>1200</td><td>1.736442</td></tr>\n",
              "\t<tr><td>11</td><td>0</td><td>38</td><td>8</td><td>12</td><td>2000</td><td>1.750827</td></tr>\n",
              "\t<tr><td>11</td><td>0</td><td>45</td><td>2</td><td>12</td><td>2000</td><td>1.780450</td></tr>\n",
              "\t<tr><td>11</td><td>0</td><td>34</td><td>2</td><td>16</td><td>6000</td><td>1.711825</td></tr>\n",
              "\t<tr><td>11</td><td>1</td><td>43</td><td>8</td><td>10</td><td>1050</td><td>1.789012</td></tr>\n",
              "\t<tr><td>11</td><td>0</td><td>53</td><td>8</td><td>16</td><td>7000</td><td>1.673665</td></tr>\n",
              "\t<tr><td>11</td><td>0</td><td>57</td><td>2</td><td>12</td><td>2000</td><td>1.715138</td></tr>\n",
              "\t<tr><td>11</td><td>1</td><td>62</td><td>8</td><td>12</td><td>1150</td><td>1.765973</td></tr>\n",
              "\t<tr><td>11</td><td>0</td><td>69</td><td>8</td><td> 1</td><td>3030</td><td>1.746351</td></tr>\n",
              "\t<tr><td>11</td><td>1</td><td>41</td><td>8</td><td>16</td><td>4000</td><td>1.660873</td></tr>\n",
              "\t<tr><td>11</td><td>0</td><td>34</td><td>8</td><td> 5</td><td> 788</td><td>1.746048</td></tr>\n",
              "\t<tr><td>11</td><td>0</td><td>25</td><td>8</td><td>12</td><td>1000</td><td>1.726496</td></tr>\n",
              "\t<tr><td>11</td><td>0</td><td>33</td><td>8</td><td> 9</td><td> 800</td><td>1.778914</td></tr>\n",
              "\t<tr><td>11</td><td>1</td><td>44</td><td>8</td><td> 5</td><td> 788</td><td>1.668638</td></tr>\n",
              "\t<tr><td>11</td><td>0</td><td>33</td><td>2</td><td>16</td><td>1600</td><td>1.783771</td></tr>\n",
              "\t<tr><td>11</td><td>0</td><td>65</td><td>2</td><td>12</td><td>1700</td><td>1.873445</td></tr>\n",
              "\t<tr><td>11</td><td>0</td><td>33</td><td>8</td><td>14</td><td>2000</td><td>1.890250</td></tr>\n",
              "\t<tr><td>11</td><td>0</td><td>32</td><td>8</td><td>12</td><td>2400</td><td>1.660204</td></tr>\n",
              "\t<tr><td>⋮</td><td>⋮</td><td>⋮</td><td>⋮</td><td>⋮</td><td>⋮</td><td>⋮</td></tr>\n",
              "\t<tr><td>53</td><td>0</td><td>34</td><td>4</td><td>12</td><td> 2500</td><td>1.802241</td></tr>\n",
              "\t<tr><td>53</td><td>1</td><td>57</td><td>2</td><td>11</td><td> 1000</td><td>1.823047</td></tr>\n",
              "\t<tr><td>53</td><td>1</td><td>32</td><td>4</td><td>12</td><td>  788</td><td>1.681405</td></tr>\n",
              "\t<tr><td>53</td><td>0</td><td>35</td><td>4</td><td> 9</td><td> 2100</td><td>1.671112</td></tr>\n",
              "\t<tr><td>53</td><td>1</td><td>49</td><td>8</td><td>12</td><td> 5260</td><td>1.799319</td></tr>\n",
              "\t<tr><td>53</td><td>0</td><td>51</td><td>8</td><td> 1</td><td> 5000</td><td>1.599400</td></tr>\n",
              "\t<tr><td>53</td><td>0</td><td>37</td><td>8</td><td>12</td><td>  950</td><td>1.620497</td></tr>\n",
              "\t<tr><td>53</td><td>0</td><td>47</td><td>8</td><td>12</td><td> 1109</td><td>1.920274</td></tr>\n",
              "\t<tr><td>53</td><td>0</td><td>27</td><td>8</td><td>10</td><td>  850</td><td>1.793074</td></tr>\n",
              "\t<tr><td>53</td><td>1</td><td>49</td><td>8</td><td> 9</td><td>  788</td><td>1.695710</td></tr>\n",
              "\t<tr><td>53</td><td>1</td><td>27</td><td>8</td><td>12</td><td>  866</td><td>1.729035</td></tr>\n",
              "\t<tr><td>53</td><td>0</td><td>20</td><td>2</td><td> 8</td><td> 1300</td><td>1.660409</td></tr>\n",
              "\t<tr><td>53</td><td>0</td><td>49</td><td>8</td><td>12</td><td> 8700</td><td>1.775182</td></tr>\n",
              "\t<tr><td>53</td><td>0</td><td>43</td><td>8</td><td>10</td><td> 5000</td><td>1.584493</td></tr>\n",
              "\t<tr><td>53</td><td>0</td><td>64</td><td>2</td><td>12</td><td> 5000</td><td>1.717452</td></tr>\n",
              "\t<tr><td>53</td><td>0</td><td>55</td><td>2</td><td>16</td><td>13000</td><td>1.729995</td></tr>\n",
              "\t<tr><td>53</td><td>0</td><td>39</td><td>2</td><td>12</td><td> 6000</td><td>1.739046</td></tr>\n",
              "\t<tr><td>53</td><td>1</td><td>41</td><td>2</td><td>16</td><td>10000</td><td>1.696208</td></tr>\n",
              "\t<tr><td>53</td><td>0</td><td>62</td><td>2</td><td>16</td><td>10000</td><td>1.817097</td></tr>\n",
              "\t<tr><td>53</td><td>0</td><td>42</td><td>8</td><td>12</td><td>32000</td><td>1.788923</td></tr>\n",
              "\t<tr><td>53</td><td>0</td><td>62</td><td>2</td><td>16</td><td> 3500</td><td>1.725379</td></tr>\n",
              "\t<tr><td>53</td><td>1</td><td>44</td><td>2</td><td>16</td><td>30000</td><td>1.783962</td></tr>\n",
              "\t<tr><td>53</td><td>1</td><td>49</td><td>2</td><td>12</td><td> 5000</td><td>1.757146</td></tr>\n",
              "\t<tr><td>53</td><td>0</td><td>30</td><td>4</td><td> 6</td><td> 1900</td><td>1.662560</td></tr>\n",
              "\t<tr><td>53</td><td>1</td><td>35</td><td>4</td><td> 1</td><td> 1100</td><td>1.741089</td></tr>\n",
              "\t<tr><td>53</td><td>1</td><td>46</td><td>2</td><td>11</td><td>  812</td><td>1.687030</td></tr>\n",
              "\t<tr><td>53</td><td>0</td><td>30</td><td>4</td><td> 7</td><td> 1500</td><td>1.792934</td></tr>\n",
              "\t<tr><td>53</td><td>0</td><td>32</td><td>8</td><td>12</td><td> 1300</td><td>1.830587</td></tr>\n",
              "\t<tr><td>53</td><td>0</td><td>57</td><td>8</td><td> 4</td><td> 1500</td><td>1.726344</td></tr>\n",
              "\t<tr><td>53</td><td>0</td><td>38</td><td>8</td><td> 4</td><td>  900</td><td>1.658305</td></tr>\n",
              "</tbody>\n",
              "</table>\n"
            ],
            "text/markdown": "\nA data.frame: 76840 × 7\n\n| UF &lt;dbl&gt; | Sexo &lt;dbl&gt; | Idade &lt;dbl&gt; | Cor &lt;dbl&gt; | Anos.de.Estudo &lt;dbl&gt; | Renda &lt;dbl&gt; | Altura &lt;dbl&gt; |\n|---|---|---|---|---|---|---|\n| 11 | 0 | 23 | 8 | 12 |  800 | 1.603808 |\n| 11 | 1 | 23 | 2 | 12 | 1150 | 1.739790 |\n| 11 | 1 | 35 | 8 | 15 |  880 | 1.760444 |\n| 11 | 0 | 46 | 2 |  6 | 3500 | 1.783158 |\n| 11 | 1 | 47 | 8 |  9 |  150 | 1.690631 |\n| 11 | 1 | 34 | 8 | 12 |  790 | 1.637906 |\n| 11 | 0 | 57 | 8 | 12 | 3150 | 1.570078 |\n| 11 | 1 | 60 | 8 | 12 | 1700 | 1.608495 |\n| 11 | 1 | 50 | 4 | 14 | 1800 | 1.780329 |\n| 11 | 0 | 26 | 8 | 12 | 1150 | 1.793203 |\n| 11 | 1 | 46 | 8 | 12 | 3000 | 1.787003 |\n| 11 | 1 | 49 | 8 |  6 | 2500 | 1.712912 |\n| 11 | 1 | 52 | 2 |  6 | 1200 | 1.736442 |\n| 11 | 0 | 38 | 8 | 12 | 2000 | 1.750827 |\n| 11 | 0 | 45 | 2 | 12 | 2000 | 1.780450 |\n| 11 | 0 | 34 | 2 | 16 | 6000 | 1.711825 |\n| 11 | 1 | 43 | 8 | 10 | 1050 | 1.789012 |\n| 11 | 0 | 53 | 8 | 16 | 7000 | 1.673665 |\n| 11 | 0 | 57 | 2 | 12 | 2000 | 1.715138 |\n| 11 | 1 | 62 | 8 | 12 | 1150 | 1.765973 |\n| 11 | 0 | 69 | 8 |  1 | 3030 | 1.746351 |\n| 11 | 1 | 41 | 8 | 16 | 4000 | 1.660873 |\n| 11 | 0 | 34 | 8 |  5 |  788 | 1.746048 |\n| 11 | 0 | 25 | 8 | 12 | 1000 | 1.726496 |\n| 11 | 0 | 33 | 8 |  9 |  800 | 1.778914 |\n| 11 | 1 | 44 | 8 |  5 |  788 | 1.668638 |\n| 11 | 0 | 33 | 2 | 16 | 1600 | 1.783771 |\n| 11 | 0 | 65 | 2 | 12 | 1700 | 1.873445 |\n| 11 | 0 | 33 | 8 | 14 | 2000 | 1.890250 |\n| 11 | 0 | 32 | 8 | 12 | 2400 | 1.660204 |\n| ⋮ | ⋮ | ⋮ | ⋮ | ⋮ | ⋮ | ⋮ |\n| 53 | 0 | 34 | 4 | 12 |  2500 | 1.802241 |\n| 53 | 1 | 57 | 2 | 11 |  1000 | 1.823047 |\n| 53 | 1 | 32 | 4 | 12 |   788 | 1.681405 |\n| 53 | 0 | 35 | 4 |  9 |  2100 | 1.671112 |\n| 53 | 1 | 49 | 8 | 12 |  5260 | 1.799319 |\n| 53 | 0 | 51 | 8 |  1 |  5000 | 1.599400 |\n| 53 | 0 | 37 | 8 | 12 |   950 | 1.620497 |\n| 53 | 0 | 47 | 8 | 12 |  1109 | 1.920274 |\n| 53 | 0 | 27 | 8 | 10 |   850 | 1.793074 |\n| 53 | 1 | 49 | 8 |  9 |   788 | 1.695710 |\n| 53 | 1 | 27 | 8 | 12 |   866 | 1.729035 |\n| 53 | 0 | 20 | 2 |  8 |  1300 | 1.660409 |\n| 53 | 0 | 49 | 8 | 12 |  8700 | 1.775182 |\n| 53 | 0 | 43 | 8 | 10 |  5000 | 1.584493 |\n| 53 | 0 | 64 | 2 | 12 |  5000 | 1.717452 |\n| 53 | 0 | 55 | 2 | 16 | 13000 | 1.729995 |\n| 53 | 0 | 39 | 2 | 12 |  6000 | 1.739046 |\n| 53 | 1 | 41 | 2 | 16 | 10000 | 1.696208 |\n| 53 | 0 | 62 | 2 | 16 | 10000 | 1.817097 |\n| 53 | 0 | 42 | 8 | 12 | 32000 | 1.788923 |\n| 53 | 0 | 62 | 2 | 16 |  3500 | 1.725379 |\n| 53 | 1 | 44 | 2 | 16 | 30000 | 1.783962 |\n| 53 | 1 | 49 | 2 | 12 |  5000 | 1.757146 |\n| 53 | 0 | 30 | 4 |  6 |  1900 | 1.662560 |\n| 53 | 1 | 35 | 4 |  1 |  1100 | 1.741089 |\n| 53 | 1 | 46 | 2 | 11 |   812 | 1.687030 |\n| 53 | 0 | 30 | 4 |  7 |  1500 | 1.792934 |\n| 53 | 0 | 32 | 8 | 12 |  1300 | 1.830587 |\n| 53 | 0 | 57 | 8 |  4 |  1500 | 1.726344 |\n| 53 | 0 | 38 | 8 |  4 |   900 | 1.658305 |\n\n",
            "text/latex": "A data.frame: 76840 × 7\n\\begin{tabular}{lllllll}\n UF & Sexo & Idade & Cor & Anos.de.Estudo & Renda & Altura\\\\\n <dbl> & <dbl> & <dbl> & <dbl> & <dbl> & <dbl> & <dbl>\\\\\n\\hline\n\t 11 & 0 & 23 & 8 & 12 &  800 & 1.603808\\\\\n\t 11 & 1 & 23 & 2 & 12 & 1150 & 1.739790\\\\\n\t 11 & 1 & 35 & 8 & 15 &  880 & 1.760444\\\\\n\t 11 & 0 & 46 & 2 &  6 & 3500 & 1.783158\\\\\n\t 11 & 1 & 47 & 8 &  9 &  150 & 1.690631\\\\\n\t 11 & 1 & 34 & 8 & 12 &  790 & 1.637906\\\\\n\t 11 & 0 & 57 & 8 & 12 & 3150 & 1.570078\\\\\n\t 11 & 1 & 60 & 8 & 12 & 1700 & 1.608495\\\\\n\t 11 & 1 & 50 & 4 & 14 & 1800 & 1.780329\\\\\n\t 11 & 0 & 26 & 8 & 12 & 1150 & 1.793203\\\\\n\t 11 & 1 & 46 & 8 & 12 & 3000 & 1.787003\\\\\n\t 11 & 1 & 49 & 8 &  6 & 2500 & 1.712912\\\\\n\t 11 & 1 & 52 & 2 &  6 & 1200 & 1.736442\\\\\n\t 11 & 0 & 38 & 8 & 12 & 2000 & 1.750827\\\\\n\t 11 & 0 & 45 & 2 & 12 & 2000 & 1.780450\\\\\n\t 11 & 0 & 34 & 2 & 16 & 6000 & 1.711825\\\\\n\t 11 & 1 & 43 & 8 & 10 & 1050 & 1.789012\\\\\n\t 11 & 0 & 53 & 8 & 16 & 7000 & 1.673665\\\\\n\t 11 & 0 & 57 & 2 & 12 & 2000 & 1.715138\\\\\n\t 11 & 1 & 62 & 8 & 12 & 1150 & 1.765973\\\\\n\t 11 & 0 & 69 & 8 &  1 & 3030 & 1.746351\\\\\n\t 11 & 1 & 41 & 8 & 16 & 4000 & 1.660873\\\\\n\t 11 & 0 & 34 & 8 &  5 &  788 & 1.746048\\\\\n\t 11 & 0 & 25 & 8 & 12 & 1000 & 1.726496\\\\\n\t 11 & 0 & 33 & 8 &  9 &  800 & 1.778914\\\\\n\t 11 & 1 & 44 & 8 &  5 &  788 & 1.668638\\\\\n\t 11 & 0 & 33 & 2 & 16 & 1600 & 1.783771\\\\\n\t 11 & 0 & 65 & 2 & 12 & 1700 & 1.873445\\\\\n\t 11 & 0 & 33 & 8 & 14 & 2000 & 1.890250\\\\\n\t 11 & 0 & 32 & 8 & 12 & 2400 & 1.660204\\\\\n\t ⋮ & ⋮ & ⋮ & ⋮ & ⋮ & ⋮ & ⋮\\\\\n\t 53 & 0 & 34 & 4 & 12 &  2500 & 1.802241\\\\\n\t 53 & 1 & 57 & 2 & 11 &  1000 & 1.823047\\\\\n\t 53 & 1 & 32 & 4 & 12 &   788 & 1.681405\\\\\n\t 53 & 0 & 35 & 4 &  9 &  2100 & 1.671112\\\\\n\t 53 & 1 & 49 & 8 & 12 &  5260 & 1.799319\\\\\n\t 53 & 0 & 51 & 8 &  1 &  5000 & 1.599400\\\\\n\t 53 & 0 & 37 & 8 & 12 &   950 & 1.620497\\\\\n\t 53 & 0 & 47 & 8 & 12 &  1109 & 1.920274\\\\\n\t 53 & 0 & 27 & 8 & 10 &   850 & 1.793074\\\\\n\t 53 & 1 & 49 & 8 &  9 &   788 & 1.695710\\\\\n\t 53 & 1 & 27 & 8 & 12 &   866 & 1.729035\\\\\n\t 53 & 0 & 20 & 2 &  8 &  1300 & 1.660409\\\\\n\t 53 & 0 & 49 & 8 & 12 &  8700 & 1.775182\\\\\n\t 53 & 0 & 43 & 8 & 10 &  5000 & 1.584493\\\\\n\t 53 & 0 & 64 & 2 & 12 &  5000 & 1.717452\\\\\n\t 53 & 0 & 55 & 2 & 16 & 13000 & 1.729995\\\\\n\t 53 & 0 & 39 & 2 & 12 &  6000 & 1.739046\\\\\n\t 53 & 1 & 41 & 2 & 16 & 10000 & 1.696208\\\\\n\t 53 & 0 & 62 & 2 & 16 & 10000 & 1.817097\\\\\n\t 53 & 0 & 42 & 8 & 12 & 32000 & 1.788923\\\\\n\t 53 & 0 & 62 & 2 & 16 &  3500 & 1.725379\\\\\n\t 53 & 1 & 44 & 2 & 16 & 30000 & 1.783962\\\\\n\t 53 & 1 & 49 & 2 & 12 &  5000 & 1.757146\\\\\n\t 53 & 0 & 30 & 4 &  6 &  1900 & 1.662560\\\\\n\t 53 & 1 & 35 & 4 &  1 &  1100 & 1.741089\\\\\n\t 53 & 1 & 46 & 2 & 11 &   812 & 1.687030\\\\\n\t 53 & 0 & 30 & 4 &  7 &  1500 & 1.792934\\\\\n\t 53 & 0 & 32 & 8 & 12 &  1300 & 1.830587\\\\\n\t 53 & 0 & 57 & 8 &  4 &  1500 & 1.726344\\\\\n\t 53 & 0 & 38 & 8 &  4 &   900 & 1.658305\\\\\n\\end{tabular}\n",
            "text/plain": [
              "      UF Sexo Idade Cor Anos.de.Estudo Renda Altura  \n",
              "1     11 0    23    8   12              800  1.603808\n",
              "2     11 1    23    2   12             1150  1.739790\n",
              "3     11 1    35    8   15              880  1.760444\n",
              "4     11 0    46    2    6             3500  1.783158\n",
              "5     11 1    47    8    9              150  1.690631\n",
              "6     11 1    34    8   12              790  1.637906\n",
              "7     11 0    57    8   12             3150  1.570078\n",
              "8     11 1    60    8   12             1700  1.608495\n",
              "9     11 1    50    4   14             1800  1.780329\n",
              "10    11 0    26    8   12             1150  1.793203\n",
              "11    11 1    46    8   12             3000  1.787003\n",
              "12    11 1    49    8    6             2500  1.712912\n",
              "13    11 1    52    2    6             1200  1.736442\n",
              "14    11 0    38    8   12             2000  1.750827\n",
              "15    11 0    45    2   12             2000  1.780450\n",
              "16    11 0    34    2   16             6000  1.711825\n",
              "17    11 1    43    8   10             1050  1.789012\n",
              "18    11 0    53    8   16             7000  1.673665\n",
              "19    11 0    57    2   12             2000  1.715138\n",
              "20    11 1    62    8   12             1150  1.765973\n",
              "21    11 0    69    8    1             3030  1.746351\n",
              "22    11 1    41    8   16             4000  1.660873\n",
              "23    11 0    34    8    5              788  1.746048\n",
              "24    11 0    25    8   12             1000  1.726496\n",
              "25    11 0    33    8    9              800  1.778914\n",
              "26    11 1    44    8    5              788  1.668638\n",
              "27    11 0    33    2   16             1600  1.783771\n",
              "28    11 0    65    2   12             1700  1.873445\n",
              "29    11 0    33    8   14             2000  1.890250\n",
              "30    11 0    32    8   12             2400  1.660204\n",
              "⋮     ⋮  ⋮    ⋮     ⋮   ⋮              ⋮     ⋮       \n",
              "76811 53 0    34    4   12              2500 1.802241\n",
              "76812 53 1    57    2   11              1000 1.823047\n",
              "76813 53 1    32    4   12               788 1.681405\n",
              "76814 53 0    35    4    9              2100 1.671112\n",
              "76815 53 1    49    8   12              5260 1.799319\n",
              "76816 53 0    51    8    1              5000 1.599400\n",
              "76817 53 0    37    8   12               950 1.620497\n",
              "76818 53 0    47    8   12              1109 1.920274\n",
              "76819 53 0    27    8   10               850 1.793074\n",
              "76820 53 1    49    8    9               788 1.695710\n",
              "76821 53 1    27    8   12               866 1.729035\n",
              "76822 53 0    20    2    8              1300 1.660409\n",
              "76823 53 0    49    8   12              8700 1.775182\n",
              "76824 53 0    43    8   10              5000 1.584493\n",
              "76825 53 0    64    2   12              5000 1.717452\n",
              "76826 53 0    55    2   16             13000 1.729995\n",
              "76827 53 0    39    2   12              6000 1.739046\n",
              "76828 53 1    41    2   16             10000 1.696208\n",
              "76829 53 0    62    2   16             10000 1.817097\n",
              "76830 53 0    42    8   12             32000 1.788923\n",
              "76831 53 0    62    2   16              3500 1.725379\n",
              "76832 53 1    44    2   16             30000 1.783962\n",
              "76833 53 1    49    2   12              5000 1.757146\n",
              "76834 53 0    30    4    6              1900 1.662560\n",
              "76835 53 1    35    4    1              1100 1.741089\n",
              "76836 53 1    46    2   11               812 1.687030\n",
              "76837 53 0    30    4    7              1500 1.792934\n",
              "76838 53 0    32    8   12              1300 1.830587\n",
              "76839 53 0    57    8    4              1500 1.726344\n",
              "76840 53 0    38    8    4               900 1.658305"
            ]
          },
          "metadata": {}
        }
      ],
      "source": [
        "# como a base de dados foi carregado com a função read_csv, volta do tipo tibble, portando está sendo convertida como dataframe\n",
        "dados <- data.frame(dados)\n",
        "dados"
      ]
    },
    {
      "cell_type": "code",
      "source": [
        "options(repr.plot.width = 7, rep.plot.height = 4)"
      ],
      "metadata": {
        "id": "VGAGy7wtPVn1"
      },
      "execution_count": 15,
      "outputs": []
    },
    {
      "cell_type": "code",
      "execution_count": 16,
      "metadata": {
        "colab": {
          "base_uri": "https://localhost:8080/",
          "height": 437
        },
        "id": "HwH84r2096u_",
        "outputId": "0eaff574-9caf-479b-9f00-8060e67173c9"
      },
      "outputs": [
        {
          "output_type": "display_data",
          "data": {
            "text/plain": [
              "Plot with title “Histograma dos Anos de Estudo”"
            ],
            "image/png": "[encoded data removed]"
          },
          "metadata": {
            "image/png": {
              "width": 420,
              "height": 420
            }
          }
        }
      ],
      "source": [
        "hist(\n",
        "    x = dados$Anos.de.Estudo,\n",
        "    breaks = 'Sturges',\n",
        "    col = 'lightblue',\n",
        "    main = 'Histograma dos Anos de Estudo',\n",
        "    xlab = 'Anos de estudo',\n",
        "    ylab = 'Frequências',\n",
        "    prob = TRUE,\n",
        "    las = 1\n",
        ")"
      ]
    },
    {
      "cell_type": "code",
      "source": [
        "colnames(dados)"
      ],
      "metadata": {
        "colab": {
          "base_uri": "https://localhost:8080/",
          "height": 34
        },
        "id": "-U194PAhNmaQ",
        "outputId": "bd992100-46a8-4b20-86a6-3a54a263cc3d"
      },
      "execution_count": 17,
      "outputs": [
        {
          "output_type": "display_data",
          "data": {
            "text/html": [
              "<style>\n",
              ".list-inline {list-style: none; margin:0; padding: 0}\n",
              ".list-inline>li {display: inline-block}\n",
              ".list-inline>li:not(:last-child)::after {content: \"\\00b7\"; padding: 0 .5ex}\n",
              "</style>\n",
              "<ol class=list-inline><li>'UF'</li><li>'Sexo'</li><li>'Idade'</li><li>'Cor'</li><li>'Anos.de.Estudo'</li><li>'Renda'</li><li>'Altura'</li></ol>\n"
            ],
            "text/markdown": "1. 'UF'\n2. 'Sexo'\n3. 'Idade'\n4. 'Cor'\n5. 'Anos.de.Estudo'\n6. 'Renda'\n7. 'Altura'\n\n\n",
            "text/latex": "\\begin{enumerate*}\n\\item 'UF'\n\\item 'Sexo'\n\\item 'Idade'\n\\item 'Cor'\n\\item 'Anos.de.Estudo'\n\\item 'Renda'\n\\item 'Altura'\n\\end{enumerate*}\n",
            "text/plain": [
              "[1] \"UF\"             \"Sexo\"           \"Idade\"          \"Cor\"           \n",
              "[5] \"Anos.de.Estudo\" \"Renda\"          \"Altura\"        "
            ]
          },
          "metadata": {}
        }
      ]
    },
    {
      "cell_type": "code",
      "execution_count": 18,
      "metadata": {
        "colab": {
          "height": 437,
          "base_uri": "https://localhost:8080/"
        },
        "id": "s55WPk1aTg2C",
        "outputId": "f97ced53-e5cb-473e-8df6-25edaf5aca7d"
      },
      "outputs": [
        {
          "output_type": "display_data",
          "data": {
            "text/plain": [
              "plot without title"
            ],
            "image/png": "[encoded data removed]"
          },
          "metadata": {
            "image/png": {
              "width": 420,
              "height": 420
            }
          }
        }
      ],
      "source": [
        "ggplot(dados, aes(x = Anos.de.Estudo)) +\n",
        "    geom_histogram(binwidth = 1.5, color = \"black\", alpha = 0.9) +\n",
        "    ylab(\"Frequência\") +\n",
        "    xlab(\"Anos de Estudo\") +\n",
        "    ggtitle('Histograma dos Anos de Estudo') +\n",
        "    theme(\n",
        "        plot.title = element_text(size = 14, hjust = 0.5),\n",
        "        axis.title.y = element_text(size = 12, vjust = +0.2),\n",
        "        axis.title.x = element_text(size = 12, vjust = -0.2),\n",
        "        axis.text.y = element_text(size = 10),\n",
        "        axis.text.x = element_text(size = 10)\n",
        "    )"
      ]
    },
    {
      "cell_type": "code",
      "source": [
        "summary(dados$Anos.de.Estudo)"
      ],
      "metadata": {
        "colab": {
          "base_uri": "https://localhost:8080/",
          "height": 52
        },
        "id": "8hSLnAuHTkvq",
        "outputId": "286179c3-961b-4290-e72c-ff6e31526c44"
      },
      "execution_count": 19,
      "outputs": [
        {
          "output_type": "display_data",
          "data": {
            "text/plain": [
              "   Min. 1st Qu.  Median    Mean 3rd Qu.    Max. \n",
              "   1.00    6.00   11.00    9.47   12.00   17.00 "
            ]
          },
          "metadata": {}
        }
      ]
    },
    {
      "cell_type": "code",
      "source": [
        "# função para calcular a moda\n",
        "calc_moda <- function(x) {\n",
        "  unique_vals <- unique(x)\n",
        "  count_vals <- tabulate(match(x, unique_vals))\n",
        "  moda <- unique_vals[which.max(count_vals)]\n",
        "  return(moda)\n",
        "}\n",
        "\n",
        "calc_moda(dados$Anos.de.Estudo)"
      ],
      "metadata": {
        "colab": {
          "base_uri": "https://localhost:8080/",
          "height": 34
        },
        "id": "q4mnkQCUUQCE",
        "outputId": "5b261882-d51a-4899-903d-f6171c3b7678"
      },
      "execution_count": 20,
      "outputs": [
        {
          "output_type": "display_data",
          "data": {
            "text/html": [
              "12"
            ],
            "text/markdown": "12",
            "text/latex": "12",
            "text/plain": [
              "[1] 12"
            ]
          },
          "metadata": {}
        }
      ]
    },
    {
      "cell_type": "markdown",
      "metadata": {
        "id": "w45i-qJ1Tg2E"
      },
      "source": [
        "> ### Conclusões\n",
        "\n",
        "Analisando os gráficos de histograma dos anos de estudo dos responsáveis pelas residências, podemos perceber uma assimetria à esquerda, ou seja, a mediana e a noda são maiores que a média, como podemos ver no gráfico e confirmar com o comando 'summary' e a função criada para analisar a moda. Pode-se chegar a conclusão que a maior quantidade de pessoas responsáveis pelo lar possuem 12 anos de estudo, em mais de 20000 dos casos totais analisados. Podemos inferir que seria o ensino fundamental e média completos, pelo tempo apresentado."
      ]
    },
    {
      "cell_type": "markdown",
      "metadata": {
        "id": "pnAH1T5fTg2F"
      },
      "source": [
        "### Para a variável RENDA, construa um histograma somente com as informações das pessoas com rendimento até R$ 20.000,00"
      ]
    },
    {
      "cell_type": "code",
      "execution_count": 21,
      "metadata": {
        "id": "WqidK4Nq96vA"
      },
      "outputs": [],
      "source": [
        "dados_filtrados <- dados[dados$Renda <= 20000,]\n"
      ]
    },
    {
      "cell_type": "code",
      "source": [
        "ggplot(dados_filtrados, aes(x = dados_filtrados$Renda)) +\n",
        "    geom_histogram(binwidth = 500, color = \"black\", alpha = 0.9) +\n",
        "    ylab(\"Frequência\") +\n",
        "    xlab(\"Renda\") +\n",
        "    ggtitle('Histograma de Renda') +\n",
        "    theme(\n",
        "        plot.title = element_text(size = 14, hjust = 0.5),\n",
        "        axis.title.y = element_text(size = 12, vjust = +0.2),\n",
        "        axis.title.x = element_text(size = 12, vjust = -0.2),\n",
        "        axis.text.y = element_text(size = 10),\n",
        "        axis.text.x = element_text(size = 10)\n",
        "    )"
      ],
      "metadata": {
        "colab": {
          "base_uri": "https://localhost:8080/",
          "height": 437
        },
        "id": "pJLl2YHXs4Z-",
        "outputId": "39d0a0b7-bb4d-44bf-bc98-62ce69a9dea9"
      },
      "execution_count": 22,
      "outputs": [
        {
          "output_type": "display_data",
          "data": {
            "text/plain": [
              "plot without title"
            ],
            "image/png": "[encoded data removed]"
          },
          "metadata": {
            "image/png": {
              "width": 420,
              "height": 420
            }
          }
        }
      ]
    },
    {
      "cell_type": "markdown",
      "metadata": {
        "id": "vvtzLOUKTg2H"
      },
      "source": [
        "### Construa uma tabela de frequências e uma com os percentuais cruzando das variáveis SEXO e COR\n",
        "#### <font color='blue'>Avalie o resultado da tabela e escreva suas principais conclusões</font>\n",
        "#### <font color='red'>Utilize os vetores abaixo para renomear as linha e colunas das tabelas de frequências e dos gráficos em nosso projeto</font>"
      ]
    },
    {
      "cell_type": "code",
      "execution_count": 23,
      "metadata": {
        "id": "sChJRo_qTg2I"
      },
      "outputs": [],
      "source": [
        "sexo = c(\n",
        "    'Masculino',\n",
        "    'Feminino'\n",
        ")\n",
        "cor = c(\n",
        "    'Indígena',\n",
        "    'Branca',\n",
        "    'Preta',\n",
        "    'Amarela',\n",
        "    'Parda'\n",
        ")\n",
        "anos_de_estudo = c(\n",
        "    'Sem instrução e menos de 1 ano',\n",
        "    '1 ano',\n",
        "    '2 anos',\n",
        "    '3 anos',\n",
        "    '4 anos',\n",
        "    '5 anos',\n",
        "    '6 anos',\n",
        "    '7 anos',\n",
        "    '8 anos',\n",
        "    '9 anos',\n",
        "    '10 anos',\n",
        "    '11 anos',\n",
        "    '12 anos',\n",
        "    '13 anos',\n",
        "    '14 anos',\n",
        "    '15 anos ou mais',\n",
        "    'Não determinados'\n",
        ")"
      ]
    },
    {
      "cell_type": "code",
      "source": [
        "# Sexo\n",
        "dados$Cat.Sexo <- factor(dados$Sexo)\n",
        "levels(dados$Cat.Sexo) <- sexo\n",
        "\n",
        "# Cor\n",
        "dados$Cat.Cor <- factor(dados$Cor)\n",
        "levels(dados$Cat.Cor) <- cor\n",
        "\n",
        "# Anos de Estudo\n",
        "dados$Cat.Anos.de.Estudo <- factor(dados$Anos.de.Estudo, order = TRUE)\n",
        "levels(dados$Cat.Anos.de.Estudo) <- anos_de_estudo"
      ],
      "metadata": {
        "id": "2AnexJvWFMB0"
      },
      "execution_count": 68,
      "outputs": []
    },
    {
      "cell_type": "code",
      "source": [
        "head(dados)"
      ],
      "metadata": {
        "colab": {
          "base_uri": "https://localhost:8080/",
          "height": 286
        },
        "id": "aCPzBMkpGXsY",
        "outputId": "48d5ff1d-9cd2-4887-fdbe-17844dfd92b1"
      },
      "execution_count": 69,
      "outputs": [
        {
          "output_type": "display_data",
          "data": {
            "text/html": [
              "<table class=\"dataframe\">\n",
              "<caption>A data.frame: 6 × 10</caption>\n",
              "<thead>\n",
              "\t<tr><th></th><th scope=col>UF</th><th scope=col>Sexo</th><th scope=col>Idade</th><th scope=col>Cor</th><th scope=col>Anos.de.Estudo</th><th scope=col>Renda</th><th scope=col>Altura</th><th scope=col>Cat.Sexo</th><th scope=col>Cat.Cor</th><th scope=col>Cat.Anos.de.Estudo</th></tr>\n",
              "\t<tr><th></th><th scope=col>&lt;dbl&gt;</th><th scope=col>&lt;dbl&gt;</th><th scope=col>&lt;dbl&gt;</th><th scope=col>&lt;dbl&gt;</th><th scope=col>&lt;dbl&gt;</th><th scope=col>&lt;dbl&gt;</th><th scope=col>&lt;dbl&gt;</th><th scope=col>&lt;fct&gt;</th><th scope=col>&lt;fct&gt;</th><th scope=col>&lt;ord&gt;</th></tr>\n",
              "</thead>\n",
              "<tbody>\n",
              "\t<tr><th scope=row>1</th><td>11</td><td>0</td><td>23</td><td>8</td><td>12</td><td> 800</td><td>1.603808</td><td>Masculino</td><td>Parda </td><td>11 anos</td></tr>\n",
              "\t<tr><th scope=row>2</th><td>11</td><td>1</td><td>23</td><td>2</td><td>12</td><td>1150</td><td>1.739790</td><td>Feminino </td><td>Branca</td><td>11 anos</td></tr>\n",
              "\t<tr><th scope=row>3</th><td>11</td><td>1</td><td>35</td><td>8</td><td>15</td><td> 880</td><td>1.760444</td><td>Feminino </td><td>Parda </td><td>14 anos</td></tr>\n",
              "\t<tr><th scope=row>4</th><td>11</td><td>0</td><td>46</td><td>2</td><td> 6</td><td>3500</td><td>1.783158</td><td>Masculino</td><td>Branca</td><td>5 anos </td></tr>\n",
              "\t<tr><th scope=row>5</th><td>11</td><td>1</td><td>47</td><td>8</td><td> 9</td><td> 150</td><td>1.690631</td><td>Feminino </td><td>Parda </td><td>8 anos </td></tr>\n",
              "\t<tr><th scope=row>6</th><td>11</td><td>1</td><td>34</td><td>8</td><td>12</td><td> 790</td><td>1.637906</td><td>Feminino </td><td>Parda </td><td>11 anos</td></tr>\n",
              "</tbody>\n",
              "</table>\n"
            ],
            "text/markdown": "\nA data.frame: 6 × 10\n\n| <!--/--> | UF &lt;dbl&gt; | Sexo &lt;dbl&gt; | Idade &lt;dbl&gt; | Cor &lt;dbl&gt; | Anos.de.Estudo &lt;dbl&gt; | Renda &lt;dbl&gt; | Altura &lt;dbl&gt; | Cat.Sexo &lt;fct&gt; | Cat.Cor &lt;fct&gt; | Cat.Anos.de.Estudo &lt;ord&gt; |\n|---|---|---|---|---|---|---|---|---|---|---|\n| 1 | 11 | 0 | 23 | 8 | 12 |  800 | 1.603808 | Masculino | Parda  | 11 anos |\n| 2 | 11 | 1 | 23 | 2 | 12 | 1150 | 1.739790 | Feminino  | Branca | 11 anos |\n| 3 | 11 | 1 | 35 | 8 | 15 |  880 | 1.760444 | Feminino  | Parda  | 14 anos |\n| 4 | 11 | 0 | 46 | 2 |  6 | 3500 | 1.783158 | Masculino | Branca | 5 anos  |\n| 5 | 11 | 1 | 47 | 8 |  9 |  150 | 1.690631 | Feminino  | Parda  | 8 anos  |\n| 6 | 11 | 1 | 34 | 8 | 12 |  790 | 1.637906 | Feminino  | Parda  | 11 anos |\n\n",
            "text/latex": "A data.frame: 6 × 10\n\\begin{tabular}{r|llllllllll}\n  & UF & Sexo & Idade & Cor & Anos.de.Estudo & Renda & Altura & Cat.Sexo & Cat.Cor & Cat.Anos.de.Estudo\\\\\n  & <dbl> & <dbl> & <dbl> & <dbl> & <dbl> & <dbl> & <dbl> & <fct> & <fct> & <ord>\\\\\n\\hline\n\t1 & 11 & 0 & 23 & 8 & 12 &  800 & 1.603808 & Masculino & Parda  & 11 anos\\\\\n\t2 & 11 & 1 & 23 & 2 & 12 & 1150 & 1.739790 & Feminino  & Branca & 11 anos\\\\\n\t3 & 11 & 1 & 35 & 8 & 15 &  880 & 1.760444 & Feminino  & Parda  & 14 anos\\\\\n\t4 & 11 & 0 & 46 & 2 &  6 & 3500 & 1.783158 & Masculino & Branca & 5 anos \\\\\n\t5 & 11 & 1 & 47 & 8 &  9 &  150 & 1.690631 & Feminino  & Parda  & 8 anos \\\\\n\t6 & 11 & 1 & 34 & 8 & 12 &  790 & 1.637906 & Feminino  & Parda  & 11 anos\\\\\n\\end{tabular}\n",
            "text/plain": [
              "  UF Sexo Idade Cor Anos.de.Estudo Renda Altura   Cat.Sexo  Cat.Cor\n",
              "1 11 0    23    8   12              800  1.603808 Masculino Parda  \n",
              "2 11 1    23    2   12             1150  1.739790 Feminino  Branca \n",
              "3 11 1    35    8   15              880  1.760444 Feminino  Parda  \n",
              "4 11 0    46    2    6             3500  1.783158 Masculino Branca \n",
              "5 11 1    47    8    9              150  1.690631 Feminino  Parda  \n",
              "6 11 1    34    8   12              790  1.637906 Feminino  Parda  \n",
              "  Cat.Anos.de.Estudo\n",
              "1 11 anos           \n",
              "2 11 anos           \n",
              "3 14 anos           \n",
              "4 5 anos            \n",
              "5 8 anos            \n",
              "6 11 anos           "
            ]
          },
          "metadata": {}
        }
      ]
    },
    {
      "cell_type": "code",
      "execution_count": 72,
      "metadata": {
        "id": "KlQyrenR96vM",
        "colab": {
          "base_uri": "https://localhost:8080/",
          "height": 129
        },
        "outputId": "15625b30-271e-44b6-ebde-8cc30f6b1300"
      },
      "outputs": [
        {
          "output_type": "display_data",
          "data": {
            "text/html": [
              "<table class=\"dataframe\">\n",
              "<caption>A matrix: 2 × 5 of type int</caption>\n",
              "<thead>\n",
              "\t<tr><th></th><th scope=col>Indígena</th><th scope=col>Branca</th><th scope=col>Preta</th><th scope=col>Amarela</th><th scope=col>Parda</th></tr>\n",
              "</thead>\n",
              "<tbody>\n",
              "\t<tr><th scope=row>Masculino</th><td>256</td><td>22194</td><td>5502</td><td>235</td><td>25063</td></tr>\n",
              "\t<tr><th scope=row>Feminino</th><td>101</td><td> 9621</td><td>2889</td><td>117</td><td>10862</td></tr>\n",
              "</tbody>\n",
              "</table>\n"
            ],
            "text/markdown": "\nA matrix: 2 × 5 of type int\n\n| <!--/--> | Indígena | Branca | Preta | Amarela | Parda |\n|---|---|---|---|---|---|\n| Masculino | 256 | 22194 | 5502 | 235 | 25063 |\n| Feminino | 101 |  9621 | 2889 | 117 | 10862 |\n\n",
            "text/latex": "A matrix: 2 × 5 of type int\n\\begin{tabular}{r|lllll}\n  & Indígena & Branca & Preta & Amarela & Parda\\\\\n\\hline\n\tMasculino & 256 & 22194 & 5502 & 235 & 25063\\\\\n\tFeminino & 101 &  9621 & 2889 & 117 & 10862\\\\\n\\end{tabular}\n",
            "text/plain": [
              "          Indígena Branca Preta Amarela Parda\n",
              "Masculino 256      22194  5502  235     25063\n",
              "Feminino  101       9621  2889  117     10862"
            ]
          },
          "metadata": {}
        }
      ],
      "source": [
        "frequencia <- table(dados$Cat.Sexo, dados$Cat.Cor)\n",
        "frequencia <- cbind(frequencia)\n",
        "frequencia"
      ]
    },
    {
      "cell_type": "code",
      "execution_count": 73,
      "metadata": {
        "id": "UpgSv0MU96vM",
        "colab": {
          "base_uri": "https://localhost:8080/",
          "height": 129
        },
        "outputId": "d56438a7-843b-4484-b2d2-b66882a25bbe"
      },
      "outputs": [
        {
          "output_type": "display_data",
          "data": {
            "text/html": [
              "<table class=\"dataframe\">\n",
              "<caption>A matrix: 2 × 5 of type dbl</caption>\n",
              "<thead>\n",
              "\t<tr><th></th><th scope=col>Indígena</th><th scope=col>Branca</th><th scope=col>Preta</th><th scope=col>Amarela</th><th scope=col>Parda</th></tr>\n",
              "</thead>\n",
              "<tbody>\n",
              "\t<tr><th scope=row>Masculino</th><td>0.3331598</td><td>28.88339</td><td>7.160333</td><td>0.3058303</td><td>32.61713</td></tr>\n",
              "\t<tr><th scope=row>Feminino</th><td>0.1314420</td><td>12.52082</td><td>3.759761</td><td>0.1522644</td><td>14.13587</td></tr>\n",
              "</tbody>\n",
              "</table>\n"
            ],
            "text/markdown": "\nA matrix: 2 × 5 of type dbl\n\n| <!--/--> | Indígena | Branca | Preta | Amarela | Parda |\n|---|---|---|---|---|---|\n| Masculino | 0.3331598 | 28.88339 | 7.160333 | 0.3058303 | 32.61713 |\n| Feminino | 0.1314420 | 12.52082 | 3.759761 | 0.1522644 | 14.13587 |\n\n",
            "text/latex": "A matrix: 2 × 5 of type dbl\n\\begin{tabular}{r|lllll}\n  & Indígena & Branca & Preta & Amarela & Parda\\\\\n\\hline\n\tMasculino & 0.3331598 & 28.88339 & 7.160333 & 0.3058303 & 32.61713\\\\\n\tFeminino & 0.1314420 & 12.52082 & 3.759761 & 0.1522644 & 14.13587\\\\\n\\end{tabular}\n",
            "text/plain": [
              "          Indígena  Branca   Preta    Amarela   Parda   \n",
              "Masculino 0.3331598 28.88339 7.160333 0.3058303 32.61713\n",
              "Feminino  0.1314420 12.52082 3.759761 0.1522644 14.13587"
            ]
          },
          "metadata": {}
        }
      ],
      "source": [
        "percentual <- cbind(prop.table(frequencia) * 100)\n",
        "percentual"
      ]
    },
    {
      "cell_type": "markdown",
      "metadata": {
        "id": "2jLZmww2Tg2O"
      },
      "source": [
        "> ### Conclusões\n",
        "\n",
        "Podemos verificar que a grande maioria dos responsáveis por domicílio desta amostra são homens, das etnias pardas e brancas, respectivamente."
      ]
    },
    {
      "cell_type": "markdown",
      "metadata": {
        "id": "Aoeayf6zTg2P"
      },
      "source": [
        "## Realize, para a variável RENDA, uma análise descritiva com as ferramentas que aprendemos em nosso treinamento"
      ]
    },
    {
      "cell_type": "markdown",
      "metadata": {
        "id": "c2CtT71oTg2P"
      },
      "source": [
        "### Obtenha a média aritimética"
      ]
    },
    {
      "cell_type": "code",
      "execution_count": 28,
      "metadata": {
        "id": "qlJESCU6Tg2P",
        "colab": {
          "base_uri": "https://localhost:8080/",
          "height": 34
        },
        "outputId": "2db681ec-2504-425c-b005-2a1010755943"
      },
      "outputs": [
        {
          "output_type": "display_data",
          "data": {
            "text/html": [
              "'A média da renda desta amostra é 2000.38'"
            ],
            "text/markdown": "'A média da renda desta amostra é 2000.38'",
            "text/latex": "'A média da renda desta amostra é 2000.38'",
            "text/plain": [
              "[1] \"A média da renda desta amostra é 2000.38\""
            ]
          },
          "metadata": {}
        }
      ],
      "source": [
        "media <- mean(dados$Renda)\n",
        "sprintf(\"A média da renda desta amostra é %.2f\", media)"
      ]
    },
    {
      "cell_type": "markdown",
      "metadata": {
        "id": "Xd4saPBCTg2R"
      },
      "source": [
        "### Obtenha a mediana"
      ]
    },
    {
      "cell_type": "code",
      "execution_count": 29,
      "metadata": {
        "id": "vHTqX-UATg2R",
        "colab": {
          "base_uri": "https://localhost:8080/",
          "height": 34
        },
        "outputId": "99a7136f-0184-4353-a69b-c9ccbc66bfc1"
      },
      "outputs": [
        {
          "output_type": "display_data",
          "data": {
            "text/html": [
              "'A mediana da renda desta amostra é 1200.00'"
            ],
            "text/markdown": "'A mediana da renda desta amostra é 1200.00'",
            "text/latex": "'A mediana da renda desta amostra é 1200.00'",
            "text/plain": [
              "[1] \"A mediana da renda desta amostra é 1200.00\""
            ]
          },
          "metadata": {}
        }
      ],
      "source": [
        "mediana <- median(dados$Renda)\n",
        "sprintf(\"A mediana da renda desta amostra é %.2f\", mediana)"
      ]
    },
    {
      "cell_type": "markdown",
      "metadata": {
        "id": "_e40rDSwTg2U"
      },
      "source": [
        "### Obtenha a moda"
      ]
    },
    {
      "cell_type": "code",
      "execution_count": 30,
      "metadata": {
        "id": "OwjlGHgT96vO"
      },
      "outputs": [],
      "source": [
        "Moda <- function(x){\n",
        "    freq <- table(x)\n",
        "    return(names(freq[freq == max(freq)]))\n",
        "}"
      ]
    },
    {
      "cell_type": "code",
      "execution_count": 31,
      "metadata": {
        "id": "BFOOdYOvTg2V",
        "colab": {
          "base_uri": "https://localhost:8080/",
          "height": 34
        },
        "outputId": "cb9559ba-27b4-4b00-e178-3f4e71eb3094"
      },
      "outputs": [
        {
          "output_type": "display_data",
          "data": {
            "text/html": [
              "'A moda da renda desta amostra é 788'"
            ],
            "text/markdown": "'A moda da renda desta amostra é 788'",
            "text/latex": "'A moda da renda desta amostra é 788'",
            "text/plain": [
              "[1] \"A moda da renda desta amostra é 788\""
            ]
          },
          "metadata": {}
        }
      ],
      "source": [
        "moda <- Moda(dados$Renda)\n",
        "sprintf(\"A moda da renda desta amostra é %s\", moda)"
      ]
    },
    {
      "cell_type": "markdown",
      "metadata": {
        "id": "hCgV_XaQTg2Z"
      },
      "source": [
        "### Obtenha a variância"
      ]
    },
    {
      "cell_type": "code",
      "execution_count": 32,
      "metadata": {
        "id": "SwRgACeGTg2a",
        "colab": {
          "base_uri": "https://localhost:8080/",
          "height": 34
        },
        "outputId": "0638beb2-f3bb-4f79-c160-c5e248f69e74"
      },
      "outputs": [
        {
          "output_type": "display_data",
          "data": {
            "text/html": [
              "11044906.006217"
            ],
            "text/markdown": "11044906.006217",
            "text/latex": "11044906.006217",
            "text/plain": [
              "[1] 11044906"
            ]
          },
          "metadata": {}
        }
      ],
      "source": [
        "variancia <- var(dados$Renda)\n",
        "variancia"
      ]
    },
    {
      "cell_type": "markdown",
      "metadata": {
        "id": "gsO6MKOcTg2c"
      },
      "source": [
        "### Obtenha o desvio-padrão"
      ]
    },
    {
      "cell_type": "code",
      "execution_count": 33,
      "metadata": {
        "id": "gR-LVTRYTg2d",
        "colab": {
          "base_uri": "https://localhost:8080/",
          "height": 34
        },
        "outputId": "2a31bf17-77c7-40e0-c048-964496b01278"
      },
      "outputs": [
        {
          "output_type": "display_data",
          "data": {
            "text/html": [
              "3323.3877303464"
            ],
            "text/markdown": "3323.3877303464",
            "text/latex": "3323.3877303464",
            "text/plain": [
              "[1] 3323.388"
            ]
          },
          "metadata": {}
        }
      ],
      "source": [
        "desvio_padrao <- sd(dados$Renda)\n",
        "desvio_padrao"
      ]
    },
    {
      "cell_type": "markdown",
      "metadata": {
        "id": "vG-rdO5fTg2f"
      },
      "source": [
        "### Obtenha a média, mediana e valor máximo da variável RENDA segundo SEXO e COR\n",
        "#### <font color='blue'>Destaque os pontos mais importante que você observa nas tabulações</font>\n",
        "#### <font color='red'>Utilize *tapply* com as funções *mean*, *median* e *max*</font>"
      ]
    },
    {
      "cell_type": "code",
      "execution_count": 34,
      "metadata": {
        "id": "VgxygKWXTg2g",
        "colab": {
          "base_uri": "https://localhost:8080/",
          "height": 129
        },
        "outputId": "191fd847-0457-4558-e5c9-e2ef3b83f5ee"
      },
      "outputs": [
        {
          "output_type": "display_data",
          "data": {
            "text/html": [
              "<table class=\"dataframe\">\n",
              "<caption>A matrix: 2 × 5 of type dbl</caption>\n",
              "<thead>\n",
              "\t<tr><th></th><th scope=col>Indígena</th><th scope=col>Branca</th><th scope=col>Preta</th><th scope=col>Amarela</th><th scope=col>Parda</th></tr>\n",
              "</thead>\n",
              "<tbody>\n",
              "\t<tr><th scope=row>Masculino</th><td>1081.711</td><td>2925.744</td><td>1603.862</td><td>4758.251</td><td>1659.577</td></tr>\n",
              "\t<tr><th scope=row>Feminino</th><td>2464.386</td><td>2109.867</td><td>1134.596</td><td>3027.342</td><td>1176.759</td></tr>\n",
              "</tbody>\n",
              "</table>\n"
            ],
            "text/markdown": "\nA matrix: 2 × 5 of type dbl\n\n| <!--/--> | Indígena | Branca | Preta | Amarela | Parda |\n|---|---|---|---|---|---|\n| Masculino | 1081.711 | 2925.744 | 1603.862 | 4758.251 | 1659.577 |\n| Feminino | 2464.386 | 2109.867 | 1134.596 | 3027.342 | 1176.759 |\n\n",
            "text/latex": "A matrix: 2 × 5 of type dbl\n\\begin{tabular}{r|lllll}\n  & Indígena & Branca & Preta & Amarela & Parda\\\\\n\\hline\n\tMasculino & 1081.711 & 2925.744 & 1603.862 & 4758.251 & 1659.577\\\\\n\tFeminino & 2464.386 & 2109.867 & 1134.596 & 3027.342 & 1176.759\\\\\n\\end{tabular}\n",
            "text/plain": [
              "          Indígena Branca   Preta    Amarela  Parda   \n",
              "Masculino 1081.711 2925.744 1603.862 4758.251 1659.577\n",
              "Feminino  2464.386 2109.867 1134.596 3027.342 1176.759"
            ]
          },
          "metadata": {}
        }
      ],
      "source": [
        "media <- tapply(dados$Renda, list(dados$Sexo, dados$Cor), mean)\n",
        "rownames(media) <- c('Masculino', 'Feminino')\n",
        "colnames(media) <- c('Indígena', 'Branca', 'Preta', 'Amarela', 'Parda')\n",
        "media"
      ]
    },
    {
      "cell_type": "code",
      "execution_count": 35,
      "metadata": {
        "id": "S9vtXcax96vQ",
        "colab": {
          "base_uri": "https://localhost:8080/",
          "height": 129
        },
        "outputId": "6b213d44-87fd-413f-b141-4abae4c30e69"
      },
      "outputs": [
        {
          "output_type": "display_data",
          "data": {
            "text/html": [
              "<table class=\"dataframe\">\n",
              "<caption>A matrix: 2 × 5 of type dbl</caption>\n",
              "<thead>\n",
              "\t<tr><th></th><th scope=col>Indígena</th><th scope=col>Branca</th><th scope=col>Preta</th><th scope=col>Amarela</th><th scope=col>Parda</th></tr>\n",
              "</thead>\n",
              "<tbody>\n",
              "\t<tr><th scope=row>Masculino</th><td>797.5</td><td>1700</td><td>1200</td><td>2800</td><td>1200</td></tr>\n",
              "\t<tr><th scope=row>Feminino</th><td>788.0</td><td>1200</td><td> 800</td><td>1500</td><td> 800</td></tr>\n",
              "</tbody>\n",
              "</table>\n"
            ],
            "text/markdown": "\nA matrix: 2 × 5 of type dbl\n\n| <!--/--> | Indígena | Branca | Preta | Amarela | Parda |\n|---|---|---|---|---|---|\n| Masculino | 797.5 | 1700 | 1200 | 2800 | 1200 |\n| Feminino | 788.0 | 1200 |  800 | 1500 |  800 |\n\n",
            "text/latex": "A matrix: 2 × 5 of type dbl\n\\begin{tabular}{r|lllll}\n  & Indígena & Branca & Preta & Amarela & Parda\\\\\n\\hline\n\tMasculino & 797.5 & 1700 & 1200 & 2800 & 1200\\\\\n\tFeminino & 788.0 & 1200 &  800 & 1500 &  800\\\\\n\\end{tabular}\n",
            "text/plain": [
              "          Indígena Branca Preta Amarela Parda\n",
              "Masculino 797.5    1700   1200  2800    1200 \n",
              "Feminino  788.0    1200    800  1500     800 "
            ]
          },
          "metadata": {}
        }
      ],
      "source": [
        "mediana <- tapply(dados$Renda, list(dados$Sexo, dados$Cor), median)\n",
        "rownames(mediana) <- c('Masculino', 'Feminino')\n",
        "colnames(mediana) <- c('Indígena', 'Branca', 'Preta', 'Amarela', 'Parda')\n",
        "mediana"
      ]
    },
    {
      "cell_type": "code",
      "execution_count": 36,
      "metadata": {
        "id": "VLttbZLF96vQ",
        "colab": {
          "base_uri": "https://localhost:8080/",
          "height": 129
        },
        "outputId": "9e6e74d6-c5c0-46c1-b9bd-bb4a387d0d4c"
      },
      "outputs": [
        {
          "output_type": "display_data",
          "data": {
            "text/html": [
              "<table class=\"dataframe\">\n",
              "<caption>A matrix: 2 × 5 of type dbl</caption>\n",
              "<thead>\n",
              "\t<tr><th></th><th scope=col>Indígena</th><th scope=col>Branca</th><th scope=col>Preta</th><th scope=col>Amarela</th><th scope=col>Parda</th></tr>\n",
              "</thead>\n",
              "<tbody>\n",
              "\t<tr><th scope=row>Masculino</th><td> 10000</td><td>2e+05</td><td>50000</td><td>50000</td><td>1e+05</td></tr>\n",
              "\t<tr><th scope=row>Feminino</th><td>120000</td><td>1e+05</td><td>23000</td><td>20000</td><td>3e+04</td></tr>\n",
              "</tbody>\n",
              "</table>\n"
            ],
            "text/markdown": "\nA matrix: 2 × 5 of type dbl\n\n| <!--/--> | Indígena | Branca | Preta | Amarela | Parda |\n|---|---|---|---|---|---|\n| Masculino |  10000 | 2e+05 | 50000 | 50000 | 1e+05 |\n| Feminino | 120000 | 1e+05 | 23000 | 20000 | 3e+04 |\n\n",
            "text/latex": "A matrix: 2 × 5 of type dbl\n\\begin{tabular}{r|lllll}\n  & Indígena & Branca & Preta & Amarela & Parda\\\\\n\\hline\n\tMasculino &  10000 & 2e+05 & 50000 & 50000 & 1e+05\\\\\n\tFeminino & 120000 & 1e+05 & 23000 & 20000 & 3e+04\\\\\n\\end{tabular}\n",
            "text/plain": [
              "          Indígena Branca Preta Amarela Parda\n",
              "Masculino  10000   2e+05  50000 50000   1e+05\n",
              "Feminino  120000   1e+05  23000 20000   3e+04"
            ]
          },
          "metadata": {}
        }
      ],
      "source": [
        "maximo <- tapply(dados$Renda, list(dados$Sexo, dados$Cor), max)\n",
        "rownames(maximo) <- c('Masculino', 'Feminino')\n",
        "colnames(maximo) <- c('Indígena', 'Branca', 'Preta', 'Amarela', 'Parda')\n",
        "maximo"
      ]
    },
    {
      "cell_type": "markdown",
      "metadata": {
        "id": "ibndm9iwTg2i"
      },
      "source": [
        "> ### Conclusões\n",
        "\n",
        "Podemos tirar algumas conclusões, mesmo que simples e objetivas deste contexto. Com a etnia indígina, o padrão é invertido das demais etnias. Apesar da mediana masculina ser maior, a renda média e máxima destas pessoas são substancialmente maiores entre as mulheres do que no homens, como é nas demais etnias presentes. A média de renda nos chefes de família da etnia amarela, ou seja, os asiáticos de uma maneira geral, é maior do que as demais, porém a renda máxima desta família ainda é maior na etnia branca, tanto em homens quanto nas mulheres. Isso mostra a tendência e características gerais da ainda predominância da etnia branca."
      ]
    },
    {
      "cell_type": "markdown",
      "metadata": {
        "id": "CleJ6c1rTg2i"
      },
      "source": [
        "### Obtenha as medidas de dispersão da variável RENDA segundo SEXO e COR\n",
        "#### <font color='blue'>Destaque os pontos mais importante que você observa nas tabulações</font>\n",
        "#### <font color='red'>Utilize *tapply* com as funções *var* e *sd*</font>"
      ]
    },
    {
      "cell_type": "code",
      "execution_count": 48,
      "metadata": {
        "id": "SskruGoT96vR",
        "colab": {
          "base_uri": "https://localhost:8080/",
          "height": 129
        },
        "outputId": "03377956-42ab-4471-f50c-6baba82d3d30"
      },
      "outputs": [
        {
          "output_type": "display_data",
          "data": {
            "text/html": [
              "<table class=\"dataframe\">\n",
              "<caption>A matrix: 2 × 5 of type dbl</caption>\n",
              "<thead>\n",
              "\t<tr><th></th><th scope=col>Indígena</th><th scope=col>Branca</th><th scope=col>Preta</th><th scope=col>Amarela</th><th scope=col>Parda</th></tr>\n",
              "</thead>\n",
              "<tbody>\n",
              "\t<tr><th scope=row>Masculino</th><td>  1449841</td><td>22570023</td><td>3749294</td><td>32957070</td><td>5345747</td></tr>\n",
              "\t<tr><th scope=row>Feminino</th><td>142981765</td><td>10569087</td><td>1821960</td><td>13921657</td><td>2547960</td></tr>\n",
              "</tbody>\n",
              "</table>\n"
            ],
            "text/markdown": "\nA matrix: 2 × 5 of type dbl\n\n| <!--/--> | Indígena | Branca | Preta | Amarela | Parda |\n|---|---|---|---|---|---|\n| Masculino |   1449841 | 22570023 | 3749294 | 32957070 | 5345747 |\n| Feminino | 142981765 | 10569087 | 1821960 | 13921657 | 2547960 |\n\n",
            "text/latex": "A matrix: 2 × 5 of type dbl\n\\begin{tabular}{r|lllll}\n  & Indígena & Branca & Preta & Amarela & Parda\\\\\n\\hline\n\tMasculino &   1449841 & 22570023 & 3749294 & 32957070 & 5345747\\\\\n\tFeminino & 142981765 & 10569087 & 1821960 & 13921657 & 2547960\\\\\n\\end{tabular}\n",
            "text/plain": [
              "          Indígena  Branca   Preta   Amarela  Parda  \n",
              "Masculino   1449841 22570023 3749294 32957070 5345747\n",
              "Feminino  142981765 10569087 1821960 13921657 2547960"
            ]
          },
          "metadata": {}
        }
      ],
      "source": [
        "variancia <- tapply(dados$Renda, list(dados$Sexo, dados$Cor), var)\n",
        "rownames(variancia) <- c('Masculino', 'Feminino')\n",
        "colnames(variancia) <- c('Indígena', 'Branca', 'Preta', 'Amarela', 'Parda')\n",
        "variancia"
      ]
    },
    {
      "cell_type": "code",
      "execution_count": 49,
      "metadata": {
        "id": "bNv-eWZ3Tg2j",
        "colab": {
          "base_uri": "https://localhost:8080/",
          "height": 129
        },
        "outputId": "fae5f7cf-a747-461e-8d76-d992d1c8d751"
      },
      "outputs": [
        {
          "output_type": "display_data",
          "data": {
            "text/html": [
              "<table class=\"dataframe\">\n",
              "<caption>A matrix: 2 × 5 of type dbl</caption>\n",
              "<thead>\n",
              "\t<tr><th></th><th scope=col>Indígena</th><th scope=col>Branca</th><th scope=col>Preta</th><th scope=col>Amarela</th><th scope=col>Parda</th></tr>\n",
              "</thead>\n",
              "<tbody>\n",
              "\t<tr><th scope=row>Masculino</th><td> 1204.093</td><td>4750.792</td><td>1936.309</td><td>5740.825</td><td>2312.087</td></tr>\n",
              "\t<tr><th scope=row>Feminino</th><td>11957.498</td><td>3251.013</td><td>1349.800</td><td>3731.174</td><td>1596.233</td></tr>\n",
              "</tbody>\n",
              "</table>\n"
            ],
            "text/markdown": "\nA matrix: 2 × 5 of type dbl\n\n| <!--/--> | Indígena | Branca | Preta | Amarela | Parda |\n|---|---|---|---|---|---|\n| Masculino |  1204.093 | 4750.792 | 1936.309 | 5740.825 | 2312.087 |\n| Feminino | 11957.498 | 3251.013 | 1349.800 | 3731.174 | 1596.233 |\n\n",
            "text/latex": "A matrix: 2 × 5 of type dbl\n\\begin{tabular}{r|lllll}\n  & Indígena & Branca & Preta & Amarela & Parda\\\\\n\\hline\n\tMasculino &  1204.093 & 4750.792 & 1936.309 & 5740.825 & 2312.087\\\\\n\tFeminino & 11957.498 & 3251.013 & 1349.800 & 3731.174 & 1596.233\\\\\n\\end{tabular}\n",
            "text/plain": [
              "          Indígena  Branca   Preta    Amarela  Parda   \n",
              "Masculino  1204.093 4750.792 1936.309 5740.825 2312.087\n",
              "Feminino  11957.498 3251.013 1349.800 3731.174 1596.233"
            ]
          },
          "metadata": {}
        }
      ],
      "source": [
        "desvio_padrao <- tapply(dados$Renda, list(dados$Sexo, dados$Cor), sd)\n",
        "rownames(desvio_padrao) <- c('Masculino', 'Feminino')\n",
        "colnames(desvio_padrao) <- c('Indígena', 'Branca', 'Preta', 'Amarela', 'Parda')\n",
        "desvio_padrao"
      ]
    },
    {
      "cell_type": "markdown",
      "metadata": {
        "id": "57aHvJMSTg2l"
      },
      "source": [
        "> ### Conclusões\n",
        "\n",
        "Podemos analisar que as mulheres indígenas são as que representam uma maior variação de renda em relação a média, seguidas dos homens asiáticos e brancos, respectivamente."
      ]
    },
    {
      "cell_type": "markdown",
      "metadata": {
        "id": "QSYjkdyOTg2l"
      },
      "source": [
        "### Construa um box plot da variável RENDA segundo SEXO e COR\n",
        "#### <font color='blue'>É possível verificar algum comportamento diferenciado no rendimento entre os grupos de pessoas analisados? Avalie o gráfico e destaque os pontos mais importantes;</font>\n",
        "#### <font color='red'>1º - Utilize somente as informações de pessoas com renda abaixo de R$ 10.000</font>\n",
        "#### <font color='red'>2º - Para incluir uma terceira variável na construção de um boxplot utilize o parâmetro *fill* da seguinte maneira: *aes(x = Cor, y = Renda, fill = Sexo)*.</font>"
      ]
    },
    {
      "cell_type": "code",
      "source": [
        "options(repr.plot.width = 15, rep.plot.height = 24)"
      ],
      "metadata": {
        "id": "ekNVi1siIt5u"
      },
      "execution_count": 81,
      "outputs": []
    },
    {
      "cell_type": "code",
      "execution_count": 84,
      "metadata": {
        "id": "bgfnf0A696vR",
        "colab": {
          "base_uri": "https://localhost:8080/",
          "height": 437
        },
        "outputId": "3b806f1f-be2a-436b-d923-0813d8440f1b"
      },
      "outputs": [
        {
          "output_type": "display_data",
          "data": {
            "text/plain": [
              "plot without title"
            ],
            "image/png": "[encoded data removed]"
          },
          "metadata": {
            "image/png": {
              "width": 900,
              "height": 420
            }
          }
        }
      ],
      "source": [
        "ggplot(data = dados[dados$Renda < 10000,], aes(x = Cat.Cor, y = Renda, fill = Cat.Sexo)) +\n",
        "    geom_boxplot(size = 0.2) +\n",
        "    coord_flip() +\n",
        "    ylab(\"R$\") +\n",
        "    xlab(\"Cor\") +\n",
        "    guides(fill = guide_legend(title = 'Sexo')) +\n",
        "    ggtitle('Box-plot da Renda por Cor X Sexo') +\n",
        "    theme(\n",
        "        plot.title = element_text(size = 14, hjust = 0.5),\n",
        "        axis.title.y = element_text(size = 12, vjust = +0.2),\n",
        "        axis.title.x = element_text(size = 12, vjust = -0.2),\n",
        "        axis.text.y = element_text(size = 10),\n",
        "        axis.text.x = element_text(size = 10)\n",
        "    )"
      ]
    },
    {
      "cell_type": "markdown",
      "metadata": {
        "id": "ROiIQRFhTg2o"
      },
      "source": [
        "> ### Conclusões\n",
        "\n",
        "Podemos analisar que as etnias amarela e branca, independente do sexo, possuem uma renda acima das outras categorias. Outro ponto a ser analisado é que em todas etnias, exceto na indígena, os homens ganham mais que as mulheres."
      ]
    },
    {
      "cell_type": "markdown",
      "metadata": {
        "id": "zi4BaGooTg2o"
      },
      "source": [
        "### Qual percentual de pessoas de nosso <i>dataset</i> ganham um salário mínimo (R$ 788,00) ou menos?"
      ]
    },
    {
      "cell_type": "code",
      "execution_count": 61,
      "metadata": {
        "id": "bOZuXyCE96vS",
        "colab": {
          "base_uri": "https://localhost:8080/",
          "height": 34
        },
        "outputId": "81c0a027-77e4-4aaf-ed71-6cd0d81eb3c9"
      },
      "outputs": [
        {
          "output_type": "display_data",
          "data": {
            "text/html": [
              "28.8677771993753"
            ],
            "text/markdown": "28.8677771993753",
            "text/latex": "28.8677771993753",
            "text/plain": [
              "[1] 28.86778"
            ]
          },
          "metadata": {}
        }
      ],
      "source": [
        "length(dados$Renda[dados$Renda <= 788]) / length(dados$Renda) * 100"
      ]
    },
    {
      "cell_type": "markdown",
      "metadata": {
        "id": "bl0fOMuKTg2q"
      },
      "source": [
        "### Qual o valor máximo ganho por 99% das pessoas de nosso <i>dataset</i>?\n",
        "#### <font color='red'>Utilize o método *quantile()* para realizar esta análise.</font>"
      ]
    },
    {
      "cell_type": "code",
      "execution_count": 85,
      "metadata": {
        "id": "cIVwy8bKTg2q",
        "colab": {
          "base_uri": "https://localhost:8080/",
          "height": 34
        },
        "outputId": "fef0ddc8-4f0a-4cf5-dadf-5231b9aff2ef"
      },
      "outputs": [
        {
          "output_type": "display_data",
          "data": {
            "text/html": [
              "<strong>99%:</strong> 15000"
            ],
            "text/markdown": "**99%:** 15000",
            "text/latex": "\\textbf{99\\textbackslash{}\\%:} 15000",
            "text/plain": [
              "  99% \n",
              "15000 "
            ]
          },
          "metadata": {}
        }
      ],
      "source": [
        "# centis <- c()\n",
        "# for(i in 1:99){\n",
        "#     centis <- c(centis, i / 100)\n",
        "# }\n",
        "# quantile(dados$Renda, centis)\n",
        "\n",
        "quantile(dados$Renda, .99)"
      ]
    },
    {
      "cell_type": "markdown",
      "metadata": {
        "id": "zeRhvtngTg2r"
      },
      "source": [
        "### Obtenha a média, mediana, valor máximo e desvio-padrão da variável RENDA segundo ANOS DE ESTUDO e SEXO\n",
        "#### <font color='blue'>Destaque os pontos mais importante que você observa nas tabulações</font>"
      ]
    },
    {
      "cell_type": "code",
      "source": [
        "# valores únicos de ano de estudo\n",
        "unique(dados$Anos.de.Estudo)"
      ],
      "metadata": {
        "colab": {
          "base_uri": "https://localhost:8080/",
          "height": 34
        },
        "id": "q8TvE5z6MeB9",
        "outputId": "77523b9f-bf88-4df6-f490-1c7d0ab28c54"
      },
      "execution_count": 87,
      "outputs": [
        {
          "output_type": "display_data",
          "data": {
            "text/html": [
              "<style>\n",
              ".list-inline {list-style: none; margin:0; padding: 0}\n",
              ".list-inline>li {display: inline-block}\n",
              ".list-inline>li:not(:last-child)::after {content: \"\\00b7\"; padding: 0 .5ex}\n",
              "</style>\n",
              "<ol class=list-inline><li>12</li><li>15</li><li>6</li><li>9</li><li>14</li><li>16</li><li>10</li><li>1</li><li>5</li><li>7</li><li>3</li><li>2</li><li>4</li><li>8</li><li>11</li><li>17</li><li>13</li></ol>\n"
            ],
            "text/markdown": "1. 12\n2. 15\n3. 6\n4. 9\n5. 14\n6. 16\n7. 10\n8. 1\n9. 5\n10. 7\n11. 3\n12. 2\n13. 4\n14. 8\n15. 11\n16. 17\n17. 13\n\n\n",
            "text/latex": "\\begin{enumerate*}\n\\item 12\n\\item 15\n\\item 6\n\\item 9\n\\item 14\n\\item 16\n\\item 10\n\\item 1\n\\item 5\n\\item 7\n\\item 3\n\\item 2\n\\item 4\n\\item 8\n\\item 11\n\\item 17\n\\item 13\n\\end{enumerate*}\n",
            "text/plain": [
              " [1] 12 15  6  9 14 16 10  1  5  7  3  2  4  8 11 17 13"
            ]
          },
          "metadata": {}
        }
      ]
    },
    {
      "cell_type": "code",
      "execution_count": 63,
      "metadata": {
        "id": "-dlKd5xz96vT",
        "colab": {
          "base_uri": "https://localhost:8080/",
          "height": 129
        },
        "outputId": "503710ae-651d-4b7f-a0e7-d2bcffbc3209"
      },
      "outputs": [
        {
          "output_type": "display_data",
          "data": {
            "text/html": [
              "<table class=\"dataframe\">\n",
              "<caption>A matrix: 2 × 17 of type dbl</caption>\n",
              "<thead>\n",
              "\t<tr><th></th><th scope=col>1</th><th scope=col>2</th><th scope=col>3</th><th scope=col>4</th><th scope=col>5</th><th scope=col>6</th><th scope=col>7</th><th scope=col>8</th><th scope=col>9</th><th scope=col>10</th><th scope=col>11</th><th scope=col>12</th><th scope=col>13</th><th scope=col>14</th><th scope=col>15</th><th scope=col>16</th><th scope=col>17</th></tr>\n",
              "</thead>\n",
              "<tbody>\n",
              "\t<tr><th scope=row>Masculino</th><td>799.4946</td><td>895.629</td><td>931.1790</td><td>1109.2039</td><td>1302.3293</td><td>1338.6532</td><td>1448.8754</td><td>1465.498</td><td>1639.3967</td><td>1508.0389</td><td>1731.2708</td><td>2117.061</td><td>2470.331</td><td>3195.099</td><td>3706.62</td><td>6134.280</td><td>1295.7619</td></tr>\n",
              "\t<tr><th scope=row>Feminino</th><td>516.2017</td><td>492.772</td><td>529.9116</td><td> 546.8539</td><td> 704.2791</td><td> 781.3898</td><td> 833.7328</td><td> 830.751</td><td> 933.6154</td><td> 868.0217</td><td> 925.9192</td><td>1286.791</td><td>1682.314</td><td>1911.730</td><td>2226.46</td><td>3899.513</td><td> 798.1744</td></tr>\n",
              "</tbody>\n",
              "</table>\n"
            ],
            "text/markdown": "\nA matrix: 2 × 17 of type dbl\n\n| <!--/--> | 1 | 2 | 3 | 4 | 5 | 6 | 7 | 8 | 9 | 10 | 11 | 12 | 13 | 14 | 15 | 16 | 17 |\n|---|---|---|---|---|---|---|---|---|---|---|---|---|---|---|---|---|---|\n| Masculino | 799.4946 | 895.629 | 931.1790 | 1109.2039 | 1302.3293 | 1338.6532 | 1448.8754 | 1465.498 | 1639.3967 | 1508.0389 | 1731.2708 | 2117.061 | 2470.331 | 3195.099 | 3706.62 | 6134.280 | 1295.7619 |\n| Feminino | 516.2017 | 492.772 | 529.9116 |  546.8539 |  704.2791 |  781.3898 |  833.7328 |  830.751 |  933.6154 |  868.0217 |  925.9192 | 1286.791 | 1682.314 | 1911.730 | 2226.46 | 3899.513 |  798.1744 |\n\n",
            "text/latex": "A matrix: 2 × 17 of type dbl\n\\begin{tabular}{r|lllllllllllllllll}\n  & 1 & 2 & 3 & 4 & 5 & 6 & 7 & 8 & 9 & 10 & 11 & 12 & 13 & 14 & 15 & 16 & 17\\\\\n\\hline\n\tMasculino & 799.4946 & 895.629 & 931.1790 & 1109.2039 & 1302.3293 & 1338.6532 & 1448.8754 & 1465.498 & 1639.3967 & 1508.0389 & 1731.2708 & 2117.061 & 2470.331 & 3195.099 & 3706.62 & 6134.280 & 1295.7619\\\\\n\tFeminino & 516.2017 & 492.772 & 529.9116 &  546.8539 &  704.2791 &  781.3898 &  833.7328 &  830.751 &  933.6154 &  868.0217 &  925.9192 & 1286.791 & 1682.314 & 1911.730 & 2226.46 & 3899.513 &  798.1744\\\\\n\\end{tabular}\n",
            "text/plain": [
              "          1        2       3        4         5         6         7        \n",
              "Masculino 799.4946 895.629 931.1790 1109.2039 1302.3293 1338.6532 1448.8754\n",
              "Feminino  516.2017 492.772 529.9116  546.8539  704.2791  781.3898  833.7328\n",
              "          8        9         10        11        12       13       14      \n",
              "Masculino 1465.498 1639.3967 1508.0389 1731.2708 2117.061 2470.331 3195.099\n",
              "Feminino   830.751  933.6154  868.0217  925.9192 1286.791 1682.314 1911.730\n",
              "          15      16       17       \n",
              "Masculino 3706.62 6134.280 1295.7619\n",
              "Feminino  2226.46 3899.513  798.1744"
            ]
          },
          "metadata": {}
        }
      ],
      "source": [
        "media <- tapply(dados$Renda, list(dados$Sexo, dados$Anos.de.Estudo), mean)\n",
        "rownames(media) <- c('Masculino', 'Feminino')\n",
        "colnames(media) <- c(1:17)\n",
        "media"
      ]
    },
    {
      "cell_type": "code",
      "execution_count": 64,
      "metadata": {
        "id": "R0xtdZ4T96vT",
        "colab": {
          "base_uri": "https://localhost:8080/",
          "height": 129
        },
        "outputId": "9b6e9b68-cfcb-4cf9-8866-6528332d39fc"
      },
      "outputs": [
        {
          "output_type": "display_data",
          "data": {
            "text/html": [
              "<table class=\"dataframe\">\n",
              "<caption>A matrix: 2 × 17 of type dbl</caption>\n",
              "<thead>\n",
              "\t<tr><th></th><th scope=col>1</th><th scope=col>2</th><th scope=col>3</th><th scope=col>4</th><th scope=col>5</th><th scope=col>6</th><th scope=col>7</th><th scope=col>8</th><th scope=col>9</th><th scope=col>10</th><th scope=col>11</th><th scope=col>12</th><th scope=col>13</th><th scope=col>14</th><th scope=col>15</th><th scope=col>16</th><th scope=col>17</th></tr>\n",
              "</thead>\n",
              "<tbody>\n",
              "\t<tr><th scope=row>Masculino</th><td>700</td><td>788</td><td>788</td><td>800</td><td>1000</td><td>1045</td><td>1200</td><td>1200</td><td>1300</td><td>1200</td><td>1218</td><td>1500</td><td>1800</td><td>2400</td><td>2500</td><td>4000</td><td>1200</td></tr>\n",
              "\t<tr><th scope=row>Feminino</th><td>390</td><td>400</td><td>450</td><td>500</td><td> 788</td><td> 788</td><td> 788</td><td> 788</td><td> 800</td><td> 788</td><td> 800</td><td>1000</td><td>1200</td><td>1300</td><td>1600</td><td>2800</td><td> 788</td></tr>\n",
              "</tbody>\n",
              "</table>\n"
            ],
            "text/markdown": "\nA matrix: 2 × 17 of type dbl\n\n| <!--/--> | 1 | 2 | 3 | 4 | 5 | 6 | 7 | 8 | 9 | 10 | 11 | 12 | 13 | 14 | 15 | 16 | 17 |\n|---|---|---|---|---|---|---|---|---|---|---|---|---|---|---|---|---|---|\n| Masculino | 700 | 788 | 788 | 800 | 1000 | 1045 | 1200 | 1200 | 1300 | 1200 | 1218 | 1500 | 1800 | 2400 | 2500 | 4000 | 1200 |\n| Feminino | 390 | 400 | 450 | 500 |  788 |  788 |  788 |  788 |  800 |  788 |  800 | 1000 | 1200 | 1300 | 1600 | 2800 |  788 |\n\n",
            "text/latex": "A matrix: 2 × 17 of type dbl\n\\begin{tabular}{r|lllllllllllllllll}\n  & 1 & 2 & 3 & 4 & 5 & 6 & 7 & 8 & 9 & 10 & 11 & 12 & 13 & 14 & 15 & 16 & 17\\\\\n\\hline\n\tMasculino & 700 & 788 & 788 & 800 & 1000 & 1045 & 1200 & 1200 & 1300 & 1200 & 1218 & 1500 & 1800 & 2400 & 2500 & 4000 & 1200\\\\\n\tFeminino & 390 & 400 & 450 & 500 &  788 &  788 &  788 &  788 &  800 &  788 &  800 & 1000 & 1200 & 1300 & 1600 & 2800 &  788\\\\\n\\end{tabular}\n",
            "text/plain": [
              "          1   2   3   4   5    6    7    8    9    10   11   12   13   14  \n",
              "Masculino 700 788 788 800 1000 1045 1200 1200 1300 1200 1218 1500 1800 2400\n",
              "Feminino  390 400 450 500  788  788  788  788  800  788  800 1000 1200 1300\n",
              "          15   16   17  \n",
              "Masculino 2500 4000 1200\n",
              "Feminino  1600 2800  788"
            ]
          },
          "metadata": {}
        }
      ],
      "source": [
        "mediana <- tapply(dados$Renda, list(dados$Sexo, dados$Anos.de.Estudo), median)\n",
        "rownames(mediana) <- c('Masculino', 'Feminino')\n",
        "colnames(mediana) <- c(1:17)\n",
        "mediana"
      ]
    },
    {
      "cell_type": "code",
      "execution_count": 65,
      "metadata": {
        "id": "RKeA1EWE96vT",
        "colab": {
          "base_uri": "https://localhost:8080/",
          "height": 129
        },
        "outputId": "0ff96c6c-6531-46d6-befb-e04c0de02e73"
      },
      "outputs": [
        {
          "output_type": "display_data",
          "data": {
            "text/html": [
              "<table class=\"dataframe\">\n",
              "<caption>A matrix: 2 × 17 of type dbl</caption>\n",
              "<thead>\n",
              "\t<tr><th></th><th scope=col>1</th><th scope=col>2</th><th scope=col>3</th><th scope=col>4</th><th scope=col>5</th><th scope=col>6</th><th scope=col>7</th><th scope=col>8</th><th scope=col>9</th><th scope=col>10</th><th scope=col>11</th><th scope=col>12</th><th scope=col>13</th><th scope=col>14</th><th scope=col>15</th><th scope=col>16</th><th scope=col>17</th></tr>\n",
              "</thead>\n",
              "<tbody>\n",
              "\t<tr><th scope=row>Masculino</th><td>30000</td><td>30000</td><td>40000</td><td>80000</td><td>50000</td><td>35000</td><td>25000</td><td>40000</td><td>30000</td><td>60000</td><td>45000</td><td>2e+05</td><td> 30000</td><td>25000</td><td>50000</td><td>2e+05</td><td>7000</td></tr>\n",
              "\t<tr><th scope=row>Feminino</th><td>10000</td><td> 2000</td><td> 4000</td><td> 3500</td><td>10000</td><td> 8000</td><td> 6000</td><td> 9000</td><td>18000</td><td>20000</td><td> 6000</td><td>1e+05</td><td>120000</td><td>20000</td><td>20000</td><td>1e+05</td><td>3000</td></tr>\n",
              "</tbody>\n",
              "</table>\n"
            ],
            "text/markdown": "\nA matrix: 2 × 17 of type dbl\n\n| <!--/--> | 1 | 2 | 3 | 4 | 5 | 6 | 7 | 8 | 9 | 10 | 11 | 12 | 13 | 14 | 15 | 16 | 17 |\n|---|---|---|---|---|---|---|---|---|---|---|---|---|---|---|---|---|---|\n| Masculino | 30000 | 30000 | 40000 | 80000 | 50000 | 35000 | 25000 | 40000 | 30000 | 60000 | 45000 | 2e+05 |  30000 | 25000 | 50000 | 2e+05 | 7000 |\n| Feminino | 10000 |  2000 |  4000 |  3500 | 10000 |  8000 |  6000 |  9000 | 18000 | 20000 |  6000 | 1e+05 | 120000 | 20000 | 20000 | 1e+05 | 3000 |\n\n",
            "text/latex": "A matrix: 2 × 17 of type dbl\n\\begin{tabular}{r|lllllllllllllllll}\n  & 1 & 2 & 3 & 4 & 5 & 6 & 7 & 8 & 9 & 10 & 11 & 12 & 13 & 14 & 15 & 16 & 17\\\\\n\\hline\n\tMasculino & 30000 & 30000 & 40000 & 80000 & 50000 & 35000 & 25000 & 40000 & 30000 & 60000 & 45000 & 2e+05 &  30000 & 25000 & 50000 & 2e+05 & 7000\\\\\n\tFeminino & 10000 &  2000 &  4000 &  3500 & 10000 &  8000 &  6000 &  9000 & 18000 & 20000 &  6000 & 1e+05 & 120000 & 20000 & 20000 & 1e+05 & 3000\\\\\n\\end{tabular}\n",
            "text/plain": [
              "          1     2     3     4     5     6     7     8     9     10    11   \n",
              "Masculino 30000 30000 40000 80000 50000 35000 25000 40000 30000 60000 45000\n",
              "Feminino  10000  2000  4000  3500 10000  8000  6000  9000 18000 20000  6000\n",
              "          12    13     14    15    16    17  \n",
              "Masculino 2e+05  30000 25000 50000 2e+05 7000\n",
              "Feminino  1e+05 120000 20000 20000 1e+05 3000"
            ]
          },
          "metadata": {}
        }
      ],
      "source": [
        "maximo <- tapply(dados$Renda, list(dados$Sexo, dados$Anos.de.Estudo), max)\n",
        "rownames(maximo) <- c('Masculino', 'Feminino')\n",
        "colnames(maximo) <- c(1:17)\n",
        "maximo"
      ]
    },
    {
      "cell_type": "code",
      "execution_count": 66,
      "metadata": {
        "id": "Ge9ia5vB96vT",
        "colab": {
          "base_uri": "https://localhost:8080/",
          "height": 129
        },
        "outputId": "beca5f5d-4cd1-4aa7-e243-820f652eef88"
      },
      "outputs": [
        {
          "output_type": "display_data",
          "data": {
            "text/html": [
              "<table class=\"dataframe\">\n",
              "<caption>A matrix: 2 × 17 of type dbl</caption>\n",
              "<thead>\n",
              "\t<tr><th></th><th scope=col>1</th><th scope=col>2</th><th scope=col>3</th><th scope=col>4</th><th scope=col>5</th><th scope=col>6</th><th scope=col>7</th><th scope=col>8</th><th scope=col>9</th><th scope=col>10</th><th scope=col>11</th><th scope=col>12</th><th scope=col>13</th><th scope=col>14</th><th scope=col>15</th><th scope=col>16</th><th scope=col>17</th></tr>\n",
              "</thead>\n",
              "<tbody>\n",
              "\t<tr><th scope=row>Masculino</th><td>1023.9049</td><td>1331.9506</td><td>1435.1738</td><td>2143.8001</td><td>1419.8218</td><td>1484.6506</td><td>1476.629</td><td>1419.709</td><td>1515.5837</td><td>2137.6648</td><td>2078.6097</td><td>2676.539</td><td>2268.082</td><td>2797.117</td><td>3987.215</td><td>7447.614</td><td>979.6487</td></tr>\n",
              "\t<tr><th scope=row>Feminino</th><td> 639.3115</td><td> 425.2918</td><td> 498.2342</td><td> 424.1244</td><td> 629.5534</td><td> 635.7826</td><td> 574.547</td><td> 602.038</td><td> 896.7812</td><td> 973.2217</td><td> 620.6119</td><td>1819.040</td><td>4851.834</td><td>2053.790</td><td>2064.083</td><td>4212.771</td><td>459.9860</td></tr>\n",
              "</tbody>\n",
              "</table>\n"
            ],
            "text/markdown": "\nA matrix: 2 × 17 of type dbl\n\n| <!--/--> | 1 | 2 | 3 | 4 | 5 | 6 | 7 | 8 | 9 | 10 | 11 | 12 | 13 | 14 | 15 | 16 | 17 |\n|---|---|---|---|---|---|---|---|---|---|---|---|---|---|---|---|---|---|\n| Masculino | 1023.9049 | 1331.9506 | 1435.1738 | 2143.8001 | 1419.8218 | 1484.6506 | 1476.629 | 1419.709 | 1515.5837 | 2137.6648 | 2078.6097 | 2676.539 | 2268.082 | 2797.117 | 3987.215 | 7447.614 | 979.6487 |\n| Feminino |  639.3115 |  425.2918 |  498.2342 |  424.1244 |  629.5534 |  635.7826 |  574.547 |  602.038 |  896.7812 |  973.2217 |  620.6119 | 1819.040 | 4851.834 | 2053.790 | 2064.083 | 4212.771 | 459.9860 |\n\n",
            "text/latex": "A matrix: 2 × 17 of type dbl\n\\begin{tabular}{r|lllllllllllllllll}\n  & 1 & 2 & 3 & 4 & 5 & 6 & 7 & 8 & 9 & 10 & 11 & 12 & 13 & 14 & 15 & 16 & 17\\\\\n\\hline\n\tMasculino & 1023.9049 & 1331.9506 & 1435.1738 & 2143.8001 & 1419.8218 & 1484.6506 & 1476.629 & 1419.709 & 1515.5837 & 2137.6648 & 2078.6097 & 2676.539 & 2268.082 & 2797.117 & 3987.215 & 7447.614 & 979.6487\\\\\n\tFeminino &  639.3115 &  425.2918 &  498.2342 &  424.1244 &  629.5534 &  635.7826 &  574.547 &  602.038 &  896.7812 &  973.2217 &  620.6119 & 1819.040 & 4851.834 & 2053.790 & 2064.083 & 4212.771 & 459.9860\\\\\n\\end{tabular}\n",
            "text/plain": [
              "          1         2         3         4         5         6         7       \n",
              "Masculino 1023.9049 1331.9506 1435.1738 2143.8001 1419.8218 1484.6506 1476.629\n",
              "Feminino   639.3115  425.2918  498.2342  424.1244  629.5534  635.7826  574.547\n",
              "          8        9         10        11        12       13       14      \n",
              "Masculino 1419.709 1515.5837 2137.6648 2078.6097 2676.539 2268.082 2797.117\n",
              "Feminino   602.038  896.7812  973.2217  620.6119 1819.040 4851.834 2053.790\n",
              "          15       16       17      \n",
              "Masculino 3987.215 7447.614 979.6487\n",
              "Feminino  2064.083 4212.771 459.9860"
            ]
          },
          "metadata": {}
        }
      ],
      "source": [
        "desvio_padrao <- tapply(dados$Renda, list(dados$Sexo, dados$Anos.de.Estudo), sd)\n",
        "rownames(desvio_padrao) <- c('Masculino', 'Feminino')\n",
        "colnames(desvio_padrao) <- c(1:17)\n",
        "desvio_padrao"
      ]
    },
    {
      "cell_type": "markdown",
      "source": [
        "Podemos analisar um dado interessante neste banco de dados, com relação ao tempo de estudo informado e como poderemos interpretar e analisar. Com o comando unique(), verificamos todos os dados únicos que aparecem: de 1 à 17 anos.\n",
        "Em média, (com exceção das mulheres, com 13 anos de estudo; que fogem da tendência normal de crescimento proporcional RENDA x ANOS DE ESTUDO), o aumento de anos de estudo e renda apresenta um crescimento diretamente proporcional. Porém esse dado cai abruptamente aos 17 anos de estudo. Este dado teria que ser estudado as causas ou a forma do preenchimento deste banco de dados. Por isso, como forma de tratamento de dados, foi escolhido substituir como \"não determinado\", conformo o vetor utilizado para definir os níveis com o fator.\n",
        "\n",
        "\n",
        "\n"
      ],
      "metadata": {
        "id": "UnVFyS9IDkqy"
      }
    },
    {
      "cell_type": "code",
      "source": [
        "anos_de_estudo = c(\n",
        "    'Sem instrução e menos de 1 ano',\n",
        "    '1 ano',\n",
        "    '2 anos',\n",
        "    '3 anos',\n",
        "    '4 anos',\n",
        "    '5 anos',\n",
        "    '6 anos',\n",
        "    '7 anos',\n",
        "    '8 anos',\n",
        "    '9 anos',\n",
        "    '10 anos',\n",
        "    '11 anos',\n",
        "    '12 anos',\n",
        "    '13 anos',\n",
        "    '14 anos',\n",
        "    '15 anos ou mais',\n",
        "    'Não determinados'\n",
        ")"
      ],
      "metadata": {
        "id": "vIaVesWLOqM_"
      },
      "execution_count": null,
      "outputs": []
    },
    {
      "cell_type": "code",
      "source": [
        "media <- tapply(dados$Renda, list(dados$Cat.Sexo, dados$Cat.Anos.de.Estudo), mean)\n",
        "media"
      ],
      "metadata": {
        "colab": {
          "base_uri": "https://localhost:8080/",
          "height": 129
        },
        "id": "QImqChwuOu8C",
        "outputId": "41ed0b68-fa03-4821-e1ed-b7757a2809f6"
      },
      "execution_count": 88,
      "outputs": [
        {
          "output_type": "display_data",
          "data": {
            "text/html": [
              "<table class=\"dataframe\">\n",
              "<caption>A matrix: 2 × 17 of type dbl</caption>\n",
              "<thead>\n",
              "\t<tr><th></th><th scope=col>Sem instrução e menos de 1 ano</th><th scope=col>1 ano</th><th scope=col>2 anos</th><th scope=col>3 anos</th><th scope=col>4 anos</th><th scope=col>5 anos</th><th scope=col>6 anos</th><th scope=col>7 anos</th><th scope=col>8 anos</th><th scope=col>9 anos</th><th scope=col>10 anos</th><th scope=col>11 anos</th><th scope=col>12 anos</th><th scope=col>13 anos</th><th scope=col>14 anos</th><th scope=col>15 anos ou mais</th><th scope=col>Não determinados</th></tr>\n",
              "</thead>\n",
              "<tbody>\n",
              "\t<tr><th scope=row>Masculino</th><td>799.4946</td><td>895.629</td><td>931.1790</td><td>1109.2039</td><td>1302.3293</td><td>1338.6532</td><td>1448.8754</td><td>1465.498</td><td>1639.3967</td><td>1508.0389</td><td>1731.2708</td><td>2117.061</td><td>2470.331</td><td>3195.099</td><td>3706.62</td><td>6134.280</td><td>1295.7619</td></tr>\n",
              "\t<tr><th scope=row>Feminino</th><td>516.2017</td><td>492.772</td><td>529.9116</td><td> 546.8539</td><td> 704.2791</td><td> 781.3898</td><td> 833.7328</td><td> 830.751</td><td> 933.6154</td><td> 868.0217</td><td> 925.9192</td><td>1286.791</td><td>1682.314</td><td>1911.730</td><td>2226.46</td><td>3899.513</td><td> 798.1744</td></tr>\n",
              "</tbody>\n",
              "</table>\n"
            ],
            "text/markdown": "\nA matrix: 2 × 17 of type dbl\n\n| <!--/--> | Sem instrução e menos de 1 ano | 1 ano | 2 anos | 3 anos | 4 anos | 5 anos | 6 anos | 7 anos | 8 anos | 9 anos | 10 anos | 11 anos | 12 anos | 13 anos | 14 anos | 15 anos ou mais | Não determinados |\n|---|---|---|---|---|---|---|---|---|---|---|---|---|---|---|---|---|---|\n| Masculino | 799.4946 | 895.629 | 931.1790 | 1109.2039 | 1302.3293 | 1338.6532 | 1448.8754 | 1465.498 | 1639.3967 | 1508.0389 | 1731.2708 | 2117.061 | 2470.331 | 3195.099 | 3706.62 | 6134.280 | 1295.7619 |\n| Feminino | 516.2017 | 492.772 | 529.9116 |  546.8539 |  704.2791 |  781.3898 |  833.7328 |  830.751 |  933.6154 |  868.0217 |  925.9192 | 1286.791 | 1682.314 | 1911.730 | 2226.46 | 3899.513 |  798.1744 |\n\n",
            "text/latex": "A matrix: 2 × 17 of type dbl\n\\begin{tabular}{r|lllllllllllllllll}\n  & Sem instrução e menos de 1 ano & 1 ano & 2 anos & 3 anos & 4 anos & 5 anos & 6 anos & 7 anos & 8 anos & 9 anos & 10 anos & 11 anos & 12 anos & 13 anos & 14 anos & 15 anos ou mais & Não determinados\\\\\n\\hline\n\tMasculino & 799.4946 & 895.629 & 931.1790 & 1109.2039 & 1302.3293 & 1338.6532 & 1448.8754 & 1465.498 & 1639.3967 & 1508.0389 & 1731.2708 & 2117.061 & 2470.331 & 3195.099 & 3706.62 & 6134.280 & 1295.7619\\\\\n\tFeminino & 516.2017 & 492.772 & 529.9116 &  546.8539 &  704.2791 &  781.3898 &  833.7328 &  830.751 &  933.6154 &  868.0217 &  925.9192 & 1286.791 & 1682.314 & 1911.730 & 2226.46 & 3899.513 &  798.1744\\\\\n\\end{tabular}\n",
            "text/plain": [
              "          Sem instrução e menos de 1 ano 1 ano   2 anos   3 anos    4 anos   \n",
              "Masculino 799.4946                       895.629 931.1790 1109.2039 1302.3293\n",
              "Feminino  516.2017                       492.772 529.9116  546.8539  704.2791\n",
              "          5 anos    6 anos    7 anos   8 anos    9 anos    10 anos   11 anos \n",
              "Masculino 1338.6532 1448.8754 1465.498 1639.3967 1508.0389 1731.2708 2117.061\n",
              "Feminino   781.3898  833.7328  830.751  933.6154  868.0217  925.9192 1286.791\n",
              "          12 anos  13 anos  14 anos 15 anos ou mais Não determinados\n",
              "Masculino 2470.331 3195.099 3706.62 6134.280        1295.7619       \n",
              "Feminino  1682.314 1911.730 2226.46 3899.513         798.1744       "
            ]
          },
          "metadata": {}
        }
      ]
    },
    {
      "cell_type": "markdown",
      "metadata": {
        "id": "1Rm1n7a_Tg2u"
      },
      "source": [
        "### Construa um box plot da variável RENDA segundo ANOS DE ESTUDO e SEXO\n",
        "#### <font color='blue'>É possível verificar algum comportamento diferenciado no rendimento entre os grupos de pessoas analisados? Avalie o gráfico e destaque os pontos mais importantes.</font>\n",
        "#### <font color='red'>1º - Utilize somente as informações de pessoas com renda abaixo de R$ 10.000</font>\n",
        "#### <font color='red'>2º - Para incluir uma terceira variável na construção de um boxplot utilize o parâmetro *fill* da seguinte maneira: *aes(x = Anos.de.Estudo, y = Renda, fill = Sexo)*.</font>"
      ]
    },
    {
      "cell_type": "code",
      "execution_count": 89,
      "metadata": {
        "id": "miT6oHWp96vU",
        "colab": {
          "base_uri": "https://localhost:8080/",
          "height": 437
        },
        "outputId": "6b4532d4-f5a6-4118-fa01-cf00a2bf3246"
      },
      "outputs": [
        {
          "output_type": "display_data",
          "data": {
            "text/plain": [
              "plot without title"
            ],
            "image/png": "[encoded data removed]"
          },
          "metadata": {
            "image/png": {
              "width": 900,
              "height": 420
            }
          }
        }
      ],
      "source": [
        "ggplot(data = dados[dados$Renda < 10000,], aes(x = Cat.Anos.de.Estudo, y = Renda, fill = Cat.Sexo)) +\n",
        "    geom_boxplot(size = 0.2) +\n",
        "    coord_flip() +\n",
        "    ylab(\"R$\") +\n",
        "    xlab(\"Cor\") +\n",
        "    guides(fill = guide_legend(title = 'Sexo')) +\n",
        "    ggtitle('Box-plot da Renda por Anos de Estudo X Sexo') +\n",
        "    theme(\n",
        "        plot.title = element_text(size = 14, hjust = 0.5),\n",
        "        axis.title.y = element_text(size = 12, vjust = +0.2),\n",
        "        axis.title.x = element_text(size = 12, vjust = -0.2),\n",
        "        axis.text.y = element_text(size = 10),\n",
        "        axis.text.x = element_text(size = 10)\n",
        "    )"
      ]
    },
    {
      "cell_type": "markdown",
      "metadata": {
        "id": "LrEECOmNTg2w"
      },
      "source": [
        "> ### Conclusões\n",
        "\n",
        "Conforme analisado na conclusão anterior, a renda relativa à quantidade de anos de estudo é diretamente proporcional: quanto maior o tempo de estudo, maior a renda. Os homens continuam ganhando mais que as mulheres, mesmo aquelas pessoas com a mesma quantidade de tempo de estudo."
      ]
    }
  ],
  "metadata": {
    "colab": {
      "provenance": []
    },
    "kernelspec": {
      "display_name": "R",
      "language": "R",
      "name": "ir"
    },
    "language_info": {
      "codemirror_mode": "r",
      "file_extension": ".r",
      "mimetype": "text/x-r-source",
      "name": "R",
      "pygments_lexer": "r",
      "version": "3.6.1"
    }
  },
  "nbformat": 4,
  "nbformat_minor": 0
}